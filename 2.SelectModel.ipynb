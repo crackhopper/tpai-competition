{
 "cells": [
  {
   "cell_type": "markdown",
   "metadata": {},
   "source": [
    "# load data"
   ]
  },
  {
   "cell_type": "code",
   "execution_count": 1,
   "metadata": {
    "collapsed": false
   },
   "outputs": [
    {
     "data": {
      "text/plain": [
       "<class 'pandas.io.pytables.HDFStore'>\n",
       "File path: ./_extracted/use_raw\n",
       "/teX            frame        (shape->[338489,6]) \n",
       "/trX            frame        (shape->[3749528,6])\n",
       "/trY            series       (shape->[3749528])  "
      ]
     },
     "execution_count": 1,
     "metadata": {},
     "output_type": "execute_result"
    }
   ],
   "source": [
    "import pandas as pd\n",
    "extracted = pd.HDFStore('./_extracted/use_raw.db')\n",
    "extracted"
   ]
  },
  {
   "cell_type": "markdown",
   "metadata": {},
   "source": [
    "# build a model"
   ]
  },
  {
   "cell_type": "markdown",
   "metadata": {},
   "source": [
    "## 1. read data"
   ]
  },
  {
   "cell_type": "code",
   "execution_count": 2,
   "metadata": {
    "collapsed": false
   },
   "outputs": [],
   "source": [
    "# we define a constant model here\n",
    "from sklearn.base import BaseEstimator\n",
    "import numpy as np\n",
    "from sklearn.model_selection import train_test_split\n",
    "from sklearn.model_selection import GridSearchCV\n",
    "from sklearn.metrics import classification_report\n",
    "\n",
    "X_train = extracted['trX']\n",
    "y_train = extracted['trY']\n",
    "X_test = extracted['teX']\n",
    "\n",
    "bShuffle = True\n",
    "if bShuffle:\n",
    "    N = X_train.shape[0]\n",
    "    idx = np.random.permutation(N)\n",
    "    X_train = X_train.as_matrix()[idx]\n",
    "    y_train = y_train.as_matrix()[idx]"
   ]
  },
  {
   "cell_type": "markdown",
   "metadata": {},
   "source": [
    "## 2. try to build a model\n",
    "- we can use sklearn model directly\n",
    "- can also add preprocessing or feature extraction algorithms here\n",
    "  - preprocessing : http://scikit-learn.org/stable/modules/preprocessing.html\n",
    "  - extraction : http://scikit-learn.org/stable/modules/feature_extraction.html\n",
    "  - integrate with pipeline: http://scikit-learn.org/stable/modules/pipeline.html\n",
    "- select parameter:\n",
    "  - cross validation : http://scikit-learn.org/stable/modules/cross_validation.html\n",
    "  - grid search the parameter : http://scikit-learn.org/stable/modules/grid_search.html#exhaustive-grid-search"
   ]
  },
  {
   "cell_type": "code",
   "execution_count": 3,
   "metadata": {
    "collapsed": true
   },
   "outputs": [],
   "source": [
    "class Constant(BaseEstimator):\n",
    "    def __init__(self,val=0):\n",
    "        self.val = val\n",
    "    def fit(self,X,y):\n",
    "        return self\n",
    "    def predict(self,X):\n",
    "        return self.fit_predict(X)\n",
    "    def fit_predict(self,X):\n",
    "        N = X.shape[0]\n",
    "        return np.ones([N])*self.val  "
   ]
  },
  {
   "cell_type": "code",
   "execution_count": 4,
   "metadata": {
    "collapsed": false
   },
   "outputs": [
    {
     "name": "stdout",
     "output_type": "stream",
     "text": [
      "from sklearn.base import BaseEstimator\r\n",
      "import numpy as np\r\n",
      "\r\n",
      "class Constant(BaseEstimator):\r\n",
      "    def __init__(self,val=0):\r\n",
      "        self.val = val\r\n",
      "    def fit(self,X,y):\r\n",
      "        return self\r\n",
      "    def predict(self,X):\r\n",
      "        return self.fit_predict(X)\r\n",
      "    def fit_predict(self,X):\r\n",
      "        N = X.shape[0]\r\n",
      "        return np.ones([N])*self.val\r\n",
      "\r\n"
     ]
    }
   ],
   "source": [
    "# save model into a file\n",
    "!cat models/constant.py"
   ]
  },
  {
   "cell_type": "markdown",
   "metadata": {},
   "source": [
    "## tuning parameters"
   ]
  },
  {
   "cell_type": "code",
   "execution_count": 5,
   "metadata": {
    "collapsed": false
   },
   "outputs": [
    {
     "name": "stdout",
     "output_type": "stream",
     "text": [
      "# Tuning hyper-parameters for <function official_score at 0x1083deaa0>\n",
      "fitting\n"
     ]
    },
    {
     "data": {
      "text/plain": [
       "GridSearchCV(cv=5, error_score='raise', estimator=Constant(val=0),\n",
       "       fit_params={}, iid=True, n_jobs=1, param_grid=[{'val': [0, 1]}],\n",
       "       pre_dispatch='2*n_jobs', refit=True, return_train_score=True,\n",
       "       scoring=<function official_score at 0x1083deaa0>, verbose=0)"
      ]
     },
     "execution_count": 5,
     "metadata": {},
     "output_type": "execute_result"
    }
   ],
   "source": [
    "from models import official_score\n",
    "from models.constant import Constant\n",
    "\n",
    "estimator = Constant\n",
    "score = official_score\n",
    "\n",
    "tuned_parameters = [{'val': [0,1],\n",
    "                     },\n",
    "                   ]\n",
    "print \"# Tuning hyper-parameters for %s\" % score\n",
    "clf = GridSearchCV(estimator(), tuned_parameters, cv=5, scoring= score)\n",
    "\n",
    "print \"fitting\"\n",
    "clf.fit(X_train, y_train)"
   ]
  },
  {
   "cell_type": "code",
   "execution_count": 6,
   "metadata": {
    "collapsed": false
   },
   "outputs": [
    {
     "name": "stdout",
     "output_type": "stream",
     "text": [
      "Best parameters set found on development set: {'val': 0}\n",
      "Grid scores on development set:\n",
      "-0.859 (+/-0.008) for {'val': 0} -33.680 (+/-0.008) for {'val': 1} \n",
      "Detailed classification report:\n",
      "The model is trained on the full development set.\n",
      "The scores are computed on the full evaluation set.\n",
      "             precision    recall  f1-score   support\n",
      "\n",
      "          0       0.98      1.00      0.99   3656266\n",
      "          1       0.00      0.00      0.00     93262\n",
      "\n",
      "avg / total       0.95      0.98      0.96   3749528\n",
      "\n"
     ]
    },
    {
     "name": "stderr",
     "output_type": "stream",
     "text": [
      "/Users/crackhopper/anaconda/lib/python2.7/site-packages/sklearn/metrics/classification.py:1113: UndefinedMetricWarning: Precision and F-score are ill-defined and being set to 0.0 in labels with no predicted samples.\n",
      "  'precision', 'predicted', average, warn_for)\n"
     ]
    }
   ],
   "source": [
    "print \"Best parameters set found on development set:\",\n",
    "print clf.best_params_\n",
    "print \"Grid scores on development set:\"\n",
    "means = clf.cv_results_['mean_test_score']\n",
    "stds = clf.cv_results_['std_test_score']\n",
    "for mean, std, params in zip(means, stds, clf.cv_results_['params']):\n",
    "    print \"%0.3f (+/-%0.03f) for %r\" % (mean, std * 2, params),\n",
    "print ''\n",
    "\n",
    "print \"Detailed classification report:\"\n",
    "print \"The model is trained on the full development set.\"\n",
    "print \"The scores are computed on the full evaluation set.\"\n",
    "y_true, y_pred = y_train, clf.predict(X_train)\n",
    "print classification_report(y_true, y_pred)"
   ]
  },
  {
   "cell_type": "markdown",
   "metadata": {},
   "source": [
    "# predict result"
   ]
  },
  {
   "cell_type": "code",
   "execution_count": 13,
   "metadata": {
    "collapsed": false
   },
   "outputs": [],
   "source": [
    "import os\n",
    "curName = 'constant'\n",
    "resultdir = './_results/'\n",
    "curdir = resultdir+curName\n",
    "if not os.path.exists(resultdir+curName):\n",
    "    os.mkdir(resultdir+curName)\n",
    "\n",
    "testY = clf.predict(X_test)\n",
    "fname = curdir+'/'+'submission.csv'\n",
    "fnamezip = fname+'.zip'\n",
    "with open(fname,'w') as f:\n",
    "    f.write('instanceId,prob\\n')\n",
    "    for i,y in enumerate(testY):\n",
    "        f.write('%d,%d\\n'%(i,y))\n",
    "        "
   ]
  },
  {
   "cell_type": "code",
   "execution_count": null,
   "metadata": {
    "collapsed": true
   },
   "outputs": [],
   "source": [
    "os.system('zip %s %s'%(fnamezip,fname))"
   ]
  },
  {
   "cell_type": "code",
   "execution_count": 15,
   "metadata": {
    "collapsed": false
   },
   "outputs": [
    {
     "name": "stdout",
     "output_type": "stream",
     "text": [
      "Copyright (c) 1990-2008 Info-ZIP - Type 'zip \"-L\"' for software license.\r\n",
      "Zip 3.0 (July 5th 2008). Usage:\r\n",
      "zip [-options] [-b path] [-t mmddyyyy] [-n suffixes] [zipfile list] [-xi list]\r\n",
      "  The default action is to add or replace zipfile entries from list, which\r\n",
      "  can include the special name - to compress standard input.\r\n",
      "  If zipfile and list are omitted, zip compresses stdin to stdout.\r\n",
      "  -f   freshen: only changed files  -u   update: only changed or new files\r\n",
      "  -d   delete entries in zipfile    -m   move into zipfile (delete OS files)\r\n",
      "  -r   recurse into directories     -j   junk (don't record) directory names\r\n",
      "  -0   store only                   -l   convert LF to CR LF (-ll CR LF to LF)\r\n",
      "  -1   compress faster              -9   compress better\r\n",
      "  -q   quiet operation              -v   verbose operation/print version info\r\n",
      "  -c   add one-line comments        -z   add zipfile comment\r\n",
      "  -@   read names from stdin        -o   make zipfile as old as latest entry\r\n",
      "  -x   exclude the following names  -i   include only the following names\r\n",
      "  -F   fix zipfile (-FF try harder) -D   do not add directory entries\r\n",
      "  -A   adjust self-extracting exe   -J   junk zipfile prefix (unzipsfx)\r\n",
      "  -T   test zipfile integrity       -X   eXclude eXtra file attributes\r\n",
      "  -y   store symbolic links as the link instead of the referenced file\r\n",
      "  -e   encrypt                      -n   don't compress these suffixes\r\n",
      "  -h2  show more help\r\n",
      "  \r\n"
     ]
    }
   ],
   "source": [
    "!zip $fnamezip $fname"
   ]
  },
  {
   "cell_type": "code",
   "execution_count": null,
   "metadata": {
    "collapsed": true
   },
   "outputs": [],
   "source": []
  }
 ],
 "metadata": {
  "kernelspec": {
   "display_name": "Python 2",
   "language": "python",
   "name": "python2"
  },
  "language_info": {
   "codemirror_mode": {
    "name": "ipython",
    "version": 2
   },
   "file_extension": ".py",
   "mimetype": "text/x-python",
   "name": "python",
   "nbconvert_exporter": "python",
   "pygments_lexer": "ipython2",
   "version": "2.7.12"
  }
 },
 "nbformat": 4,
 "nbformat_minor": 0
}
