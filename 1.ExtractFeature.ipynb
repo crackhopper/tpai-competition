{
 "cells": [
  {
   "cell_type": "markdown",
   "metadata": {},
   "source": [
    "# load data"
   ]
  },
  {
   "cell_type": "code",
   "execution_count": 1,
   "metadata": {
    "collapsed": false
   },
   "outputs": [
    {
     "data": {
      "text/plain": [
       "<class 'pandas.io.pytables.HDFStore'>\n",
       "File path: ././_data/store\n",
       "/ad                            frame        (shape->[6582,6])    \n",
       "/app_categories                frame        (shape->[217041,2])  \n",
       "/position                      frame        (shape->[7645,3])    \n",
       "/test                          frame        (shape->[338489,8])  \n",
       "/train                         frame        (shape->[3749528,8]) \n",
       "/user                          frame        (shape->[2805118,8]) \n",
       "/user_app_actions              frame        (shape->[6003471,3]) \n",
       "/user_installedapps            frame        (shape->[84039009,2])"
      ]
     },
     "execution_count": 1,
     "metadata": {},
     "output_type": "execute_result"
    }
   ],
   "source": [
    "from loadData import store, file_info,field_info\n",
    "store"
   ]
  },
  {
   "cell_type": "markdown",
   "metadata": {},
   "source": [
    "# design a Feature Extractor"
   ]
  },
  {
   "cell_type": "code",
   "execution_count": 2,
   "metadata": {
    "collapsed": false
   },
   "outputs": [],
   "source": [
    "from featExtract.base import Preprocess,train_feat,test_feat,label_feat\n",
    "\n",
    "class UseRawInput(Preprocess):\n",
    "    def __init__(self):\n",
    "        self.common = list(set(train_feat).intersection(set(test_feat)))\n",
    "        self.common.remove(label_feat)\n",
    "\n",
    "    def get_train(self,dataframe):\n",
    "        return self._get(dataframe)\n",
    "\n",
    "    def get_test(self,dataframe):\n",
    "        return self._get(dataframe)\n",
    "\n",
    "    def _get(self,dataframe):\n",
    "        X = dataframe[self.common]\n",
    "        y = dataframe[label_feat]\n",
    "        return X,y\n",
    "\n",
    "prep = UseRawInput()\n",
    "\n",
    "trainX,trainY = prep.get_train(store['train'])\n",
    "testX,testY  = prep.get_train(store['test'])"
   ]
  },
  {
   "cell_type": "code",
   "execution_count": 3,
   "metadata": {
    "collapsed": false
   },
   "outputs": [
    {
     "name": "stdout",
     "output_type": "stream",
     "text": [
      "(3749528, 6)\n",
      "(338489, 6)\n"
     ]
    }
   ],
   "source": [
    "print trainX.shape\n",
    "print testX.shape"
   ]
  },
  {
   "cell_type": "markdown",
   "metadata": {},
   "source": [
    "# save the Extractor as a file\n",
    "- save it as `use_raw_input.py` in `preprocess` folder\n",
    "- inside `__init__.py` import the class"
   ]
  },
  {
   "cell_type": "code",
   "execution_count": 4,
   "metadata": {
    "collapsed": false
   },
   "outputs": [
    {
     "name": "stdout",
     "output_type": "stream",
     "text": [
      "from base import Preprocess,train_feat,test_feat,label_feat\r\n",
      "\r\n",
      "class UseRawInput(Preprocess):\r\n",
      "    def __init__(self):\r\n",
      "        self.common = list(set(train_feat).intersection(set(test_feat)))\r\n",
      "        self.common.remove(label_feat)\r\n",
      "\r\n",
      "    def get_train(self,dataframe):\r\n",
      "        return self._get(dataframe)\r\n",
      "\r\n",
      "    def get_test(self,dataframe):\r\n",
      "        return self._get(dataframe)\r\n",
      "\r\n",
      "    def _get(self,dataframe):\r\n",
      "        X = dataframe[self.common]\r\n",
      "        y = dataframe[label_feat]\r\n",
      "        return X,y\r\n"
     ]
    }
   ],
   "source": [
    "!cat featExtract/use_raw_input.py"
   ]
  },
  {
   "cell_type": "code",
   "execution_count": 5,
   "metadata": {
    "collapsed": false
   },
   "outputs": [],
   "source": [
    "from featExtract.use_raw_input import UseRawInput\n",
    "prep = UseRawInput()\n",
    "\n",
    "trainX,trainY = prep.get_train(store['train'])\n",
    "testX,testY  = prep.get_train(store['test'])"
   ]
  },
  {
   "cell_type": "markdown",
   "metadata": {},
   "source": [
    "# save the Extracted data "
   ]
  },
  {
   "cell_type": "code",
   "execution_count": 6,
   "metadata": {
    "collapsed": true
   },
   "outputs": [],
   "source": [
    "import pandas as pd\n",
    "preprocessed = pd.HDFStore('./_extracted/use_raw.db')"
   ]
  },
  {
   "cell_type": "code",
   "execution_count": 7,
   "metadata": {
    "collapsed": true
   },
   "outputs": [],
   "source": [
    "preprocessed['trX']=trainX\n",
    "preprocessed['trY']=trainY\n",
    "preprocessed['teX']=testX"
   ]
  },
  {
   "cell_type": "code",
   "execution_count": 8,
   "metadata": {
    "collapsed": false
   },
   "outputs": [
    {
     "name": "stdout",
     "output_type": "stream",
     "text": [
      "done\n"
     ]
    }
   ],
   "source": [
    "preprocessed.close()\n",
    "print 'done'"
   ]
  },
  {
   "cell_type": "code",
   "execution_count": null,
   "metadata": {
    "collapsed": true
   },
   "outputs": [],
   "source": []
  }
 ],
 "metadata": {
  "kernelspec": {
   "display_name": "Python 2",
   "language": "python",
   "name": "python2"
  },
  "language_info": {
   "codemirror_mode": {
    "name": "ipython",
    "version": 2
   },
   "file_extension": ".py",
   "mimetype": "text/x-python",
   "name": "python",
   "nbconvert_exporter": "python",
   "pygments_lexer": "ipython2",
   "version": "2.7.12"
  }
 },
 "nbformat": 4,
 "nbformat_minor": 0
}
