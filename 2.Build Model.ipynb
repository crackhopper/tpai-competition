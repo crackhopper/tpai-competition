{
 "cells": [
  {
   "cell_type": "markdown",
   "metadata": {},
   "source": [
    "# build a model\n",
    "- we can use sklearn model directly\n",
    "- can also add preprocessing or feature extraction algorithms here\n",
    "  - preprocessing : http://scikit-learn.org/stable/modules/preprocessing.html\n",
    "  - extraction : http://scikit-learn.org/stable/modules/feature_extraction.html\n",
    "  - integrate with pipeline: http://scikit-learn.org/stable/modules/pipeline.html\n",
    "- select parameter:\n",
    "  - cross validation : http://scikit-learn.org/stable/modules/cross_validation.html\n",
    "  - grid search the parameter : http://scikit-learn.org/stable/modules/grid_search.html#exhaustive-grid-search"
   ]
  },
  {
   "cell_type": "code",
   "execution_count": null,
   "metadata": {
    "collapsed": false
   },
   "outputs": [],
   "source": [
    "%%writefile ./competition/models/impute_rf.py\n",
    "from sklearn.pipeline import Pipeline\n",
    "from sklearn.preprocessing import Imputer\n",
    "from sklearn.ensemble import RandomForestClassifier\n",
    "\n",
    "estimators = [('impute', Imputer(missing_values='NaN', strategy='most_frequent', axis=0)),\n",
    "              ('clf', RandomForestClassifier())]\n",
    "\n",
    "estimator = Pipeline(estimators)\n",
    "\n",
    "tuned_parameters = [{\n",
    "        'impute__copy':[False],\n",
    "        'clf__n_estimators': [10],\n",
    "        'clf__min_samples_split':[2],\n",
    "        'clf__min_samples_leaf':[1],\n",
    "        'clf__min_weight_fraction_leaf':[0],\n",
    "        'clf__max_leaf_nodes':[None],\n",
    "        'clf__min_impurity_split':[1e-7],\n",
    "        'clf__warm_start':[False],\n",
    "        'clf__oob_score':[False],\n",
    "        'clf__class_weight':['balanced']\n",
    "},]\n"
   ]
  },
  {
   "cell_type": "code",
   "execution_count": null,
   "metadata": {
    "collapsed": false
   },
   "outputs": [],
   "source": [
    "# modify config.py\n",
    "!cat config.py"
   ]
  },
  {
   "cell_type": "markdown",
   "metadata": {},
   "source": [
    "## tuning parameters"
   ]
  },
  {
   "cell_type": "code",
   "execution_count": null,
   "metadata": {
    "collapsed": false
   },
   "outputs": [],
   "source": [
    "%run select_models.py"
   ]
  },
  {
   "cell_type": "markdown",
   "metadata": {},
   "source": [
    "# predict result"
   ]
  },
  {
   "cell_type": "code",
   "execution_count": null,
   "metadata": {
    "collapsed": false
   },
   "outputs": [],
   "source": [
    "%run save_result.py"
   ]
  },
  {
   "cell_type": "markdown",
   "metadata": {},
   "source": [
    "# view result"
   ]
  },
  {
   "cell_type": "code",
   "execution_count": null,
   "metadata": {
    "collapsed": false
   },
   "outputs": [],
   "source": [
    "from config import extractor_name,estimator_name\n",
    "import pandas as pd\n",
    "destdir = './_results/%s-%s/'%(extractor_name,estimator_name)\n",
    "sub = pd.read_csv(destdir+'submission.csv')"
   ]
  },
  {
   "cell_type": "code",
   "execution_count": null,
   "metadata": {
    "collapsed": false
   },
   "outputs": [],
   "source": [
    "sub.describe()"
   ]
  },
  {
   "cell_type": "code",
   "execution_count": null,
   "metadata": {
    "collapsed": false
   },
   "outputs": [],
   "source": [
    "sub"
   ]
  },
  {
   "cell_type": "code",
   "execution_count": null,
   "metadata": {
    "collapsed": false
   },
   "outputs": [],
   "source": [
    "from data import store\n",
    "test = store['test']\n",
    "test.shape"
   ]
  },
  {
   "cell_type": "code",
   "execution_count": null,
   "metadata": {
    "collapsed": true
   },
   "outputs": [],
   "source": []
  }
 ],
 "metadata": {
  "kernelspec": {
   "display_name": "Python 2",
   "language": "python",
   "name": "python2"
  },
  "language_info": {
   "codemirror_mode": {
    "name": "ipython",
    "version": 2
   },
   "file_extension": ".py",
   "mimetype": "text/x-python",
   "name": "python",
   "nbconvert_exporter": "python",
   "pygments_lexer": "ipython2",
   "version": "2.7.12"
  }
 },
 "nbformat": 4,
 "nbformat_minor": 0
}
