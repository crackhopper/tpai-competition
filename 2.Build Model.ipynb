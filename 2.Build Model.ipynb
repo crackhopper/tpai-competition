{
 "cells": [
  {
   "cell_type": "markdown",
   "metadata": {},
   "source": [
    "# load data"
   ]
  },
  {
   "cell_type": "code",
   "execution_count": null,
   "metadata": {
    "collapsed": false
   },
   "outputs": [],
   "source": [
    "import pandas as pd\n",
    "extracted = pd.HDFStore('./_extracted/simple_feat.db')\n",
    "extracted"
   ]
  },
  {
   "cell_type": "markdown",
   "metadata": {},
   "source": [
    "# build a model"
   ]
  },
  {
   "cell_type": "markdown",
   "metadata": {},
   "source": [
    "## 1. read data"
   ]
  },
  {
   "cell_type": "code",
   "execution_count": null,
   "metadata": {
    "collapsed": false
   },
   "outputs": [],
   "source": [
    "# we define a constant model here\n",
    "from sklearn.base import BaseEstimator\n",
    "import numpy as np\n",
    "from sklearn.model_selection import train_test_split\n",
    "from sklearn.model_selection import GridSearchCV\n",
    "from sklearn.metrics import classification_report\n",
    "\n",
    "X_train = extracted['trX']\n",
    "y_train = extracted['trY']\n",
    "X_test = extracted['teX']\n",
    "\n",
    "bShuffle = True\n",
    "if bShuffle:\n",
    "    N = X_train.shape[0]\n",
    "    idx = np.random.permutation(N)\n",
    "    X_train = X_train.as_matrix()[idx]\n",
    "    y_train = y_train.as_matrix()[idx]"
   ]
  },
  {
   "cell_type": "markdown",
   "metadata": {},
   "source": [
    "## 2. try to build a model\n",
    "- we can use sklearn model directly\n",
    "- can also add preprocessing or feature extraction algorithms here\n",
    "  - preprocessing : http://scikit-learn.org/stable/modules/preprocessing.html\n",
    "  - extraction : http://scikit-learn.org/stable/modules/feature_extraction.html\n",
    "  - integrate with pipeline: http://scikit-learn.org/stable/modules/pipeline.html\n",
    "- select parameter:\n",
    "  - cross validation : http://scikit-learn.org/stable/modules/cross_validation.html\n",
    "  - grid search the parameter : http://scikit-learn.org/stable/modules/grid_search.html#exhaustive-grid-search"
   ]
  },
  {
   "cell_type": "code",
   "execution_count": null,
   "metadata": {
    "collapsed": false
   },
   "outputs": [],
   "source": [
    "from sklearn.pipeline import Pipeline\n",
    "\n",
    "from sklearn.preprocessing import Imputer\n",
    "from sklearn.ensemble import RandomForestClassifier\n",
    "\n",
    "estimators = [('impute', Imputer(missing_values='NaN', strategy='most_frequent', axis=0)),\n",
    "              ('clf', RandomForestClassifier())]\n",
    "\n",
    "pipe = Pipeline(estimators)\n",
    "pipe.get_params()"
   ]
  },
  {
   "cell_type": "code",
   "execution_count": null,
   "metadata": {
    "collapsed": true
   },
   "outputs": [],
   "source": [
    "# save model!"
   ]
  },
  {
   "cell_type": "markdown",
   "metadata": {},
   "source": [
    "## tuning parameters"
   ]
  },
  {
   "cell_type": "code",
   "execution_count": null,
   "metadata": {
    "collapsed": false
   },
   "outputs": [],
   "source": [
    "from models import official_score\n",
    "score = official_score\n",
    "\n",
    "tuned_parameters = [{\n",
    "        'impute__copy':[False],\n",
    "        'clf__n_estimators': [10],\n",
    "        'clf__min_samples_split':[2],\n",
    "        'clf__min_samples_leaf':[1],\n",
    "        'clf__min_weight_fraction_leaf':[0],\n",
    "        'clf__max_leaf_nodes':[None],\n",
    "        'clf__min_impurity_split':[1e-7],\n",
    "        'clf__warm_start':[True],\n",
    "        'clf__oob_score':[False],\n",
    "        'clf__class_weight':['balanced']\n",
    "},]\n",
    "print \"# Tuning hyper-parameters for %s\" % score\n",
    "clf = GridSearchCV(pipe, tuned_parameters, cv=5, scoring= score)\n",
    "\n",
    "print \"fitting\"\n",
    "clf.fit(X_train, y_train)"
   ]
  },
  {
   "cell_type": "code",
   "execution_count": null,
   "metadata": {
    "collapsed": false
   },
   "outputs": [],
   "source": [
    "print \"Best parameters set found on development set:\",\n",
    "print clf.best_params_\n",
    "print \"Grid scores on development set:\"\n",
    "means = clf.cv_results_['mean_test_score']\n",
    "stds = clf.cv_results_['std_test_score']\n",
    "for mean, std, params in zip(means, stds, clf.cv_results_['params']):\n",
    "    print \"%0.3f (+/-%0.03f) for %r\" % (mean, std * 2, params),\n",
    "print ''\n",
    "\n",
    "print \"Detailed classification report:\"\n",
    "print \"The model is trained on the full development set.\"\n",
    "print \"The scores are computed on the full evaluation set.\"\n",
    "y_true, y_pred = y_train, clf.predict(X_train)\n",
    "print classification_report(y_true, y_pred)"
   ]
  },
  {
   "cell_type": "code",
   "execution_count": null,
   "metadata": {
    "collapsed": false
   },
   "outputs": [],
   "source": [
    "print official_score(clf,X_train,y_train)"
   ]
  },
  {
   "cell_type": "markdown",
   "metadata": {},
   "source": [
    "# predict result"
   ]
  },
  {
   "cell_type": "code",
   "execution_count": null,
   "metadata": {
    "collapsed": false
   },
   "outputs": [],
   "source": [
    "import os\n",
    "curdir = os.getcwd()\n",
    "destdir = './_results/rf-no-tune/'\n",
    "if not os.path.exists(destdir):\n",
    "    os.mkdir(destdir)\n",
    "\n",
    "os.chdir(destdir)\n",
    "\n",
    "testY = clf.predict(X_test)\n",
    "fname = 'submission.csv'\n",
    "fnamezip = fname+'.zip'\n",
    "with open(fname,'w') as f:\n",
    "    f.write('instanceId,prob\\n')\n",
    "    for i,y in enumerate(testY):\n",
    "        f.write('%d,%.2f\\n'%(i+1,y))\n",
    "\n",
    "if os.path.exists(fnamezip):\n",
    "    os.remove(fnamezip)\n",
    "    \n",
    "os.system('zip %s %s'%(fnamezip,fname))\n",
    "\n",
    "os.chdir(curdir)"
   ]
  },
  {
   "cell_type": "code",
   "execution_count": null,
   "metadata": {
    "collapsed": false
   },
   "outputs": [],
   "source": [
    "!ls $destdir"
   ]
  },
  {
   "cell_type": "code",
   "execution_count": null,
   "metadata": {
    "collapsed": true
   },
   "outputs": [],
   "source": [
    "sub = pd.read_csv(destdir+'submission.csv')"
   ]
  },
  {
   "cell_type": "code",
   "execution_count": null,
   "metadata": {
    "collapsed": false
   },
   "outputs": [],
   "source": [
    "sub.describe()"
   ]
  },
  {
   "cell_type": "code",
   "execution_count": null,
   "metadata": {
    "collapsed": true
   },
   "outputs": [],
   "source": []
  }
 ],
 "metadata": {
  "kernelspec": {
   "display_name": "Python 2",
   "language": "python",
   "name": "python2"
  },
  "language_info": {
   "codemirror_mode": {
    "name": "ipython",
    "version": 2
   },
   "file_extension": ".py",
   "mimetype": "text/x-python",
   "name": "python",
   "nbconvert_exporter": "python",
   "pygments_lexer": "ipython2",
   "version": "2.7.12"
  }
 },
 "nbformat": 4,
 "nbformat_minor": 0
}
