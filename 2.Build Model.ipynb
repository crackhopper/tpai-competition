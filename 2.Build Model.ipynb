{
 "cells": [
  {
   "cell_type": "markdown",
   "metadata": {},
   "source": [
    "# build a model\n",
    "- we can use sklearn model directly\n",
    "- can also add preprocessing or feature extraction algorithms here\n",
    "  - preprocessing : http://scikit-learn.org/stable/modules/preprocessing.html\n",
    "  - extraction : http://scikit-learn.org/stable/modules/feature_extraction.html\n",
    "  - integrate with pipeline: http://scikit-learn.org/stable/modules/pipeline.html\n",
    "- select parameter:\n",
    "  - cross validation : http://scikit-learn.org/stable/modules/cross_validation.html\n",
    "  - grid search the parameter : http://scikit-learn.org/stable/modules/grid_search.html#exhaustive-grid-search"
   ]
  },
  {
   "cell_type": "code",
   "execution_count": 4,
   "metadata": {
    "collapsed": false
   },
   "outputs": [
    {
     "name": "stdout",
     "output_type": "stream",
     "text": [
      "Overwriting ./competition/models/impute_rf.py\n"
     ]
    }
   ],
   "source": [
    "%%writefile ./competition/models/impute_rf.py\n",
    "from sklearn.pipeline import Pipeline\n",
    "from sklearn.preprocessing import Imputer\n",
    "from sklearn.ensemble import RandomForestClassifier\n",
    "\n",
    "estimators = [('impute', Imputer(missing_values='NaN', strategy='most_frequent', axis=0)),\n",
    "              ('clf', RandomForestClassifier())]\n",
    "\n",
    "estimator = Pipeline(estimators)\n",
    "\n",
    "tuned_parameters = [{\n",
    "        'impute__copy':[False],\n",
    "        'clf__n_estimators': [10],\n",
    "        'clf__min_samples_split':[2],\n",
    "        'clf__min_samples_leaf':[1],\n",
    "        'clf__min_weight_fraction_leaf':[0],\n",
    "        'clf__max_leaf_nodes':[None],\n",
    "        'clf__min_impurity_split':[1e-7],\n",
    "        'clf__warm_start':[False],\n",
    "        'clf__oob_score':[False],\n",
    "        'clf__class_weight':['balanced']\n",
    "},]\n"
   ]
  },
  {
   "cell_type": "code",
   "execution_count": null,
   "metadata": {
    "collapsed": false
   },
   "outputs": [
    {
     "name": "stdout",
     "output_type": "stream",
     "text": [
      "# -*- coding:utf-8 -*-\r\n",
      "\r\n",
      "# define at you will\r\n",
      "# this file is intended to be used by the scripts in this folder\r\n",
      "\r\n",
      "\r\n",
      "# convert_data, load_data\r\n",
      "dataDir = './_data/'\r\n",
      "extractDir = './_extracted/'\r\n",
      "resultDir = './_result/'\r\n",
      "\r\n",
      "dataFile = 'store.db'\r\n",
      "infoFile = 'info.pkl'\r\n",
      "\r\n",
      "# extract_features\r\n",
      "from competition.featExtract.simple_features import SimpleFeatures as Extractor\r\n",
      "extractor_name = 'simple_features'\r\n",
      "\r\n",
      "# build_model\r\n",
      "from competition.models.impute_rf import estimator,tuned_parameters\r\n",
      "estimator_name = 'impute_rf'\r\n",
      "\r\n",
      "# other configs\r\n",
      "bShuffle = True\r\n"
     ]
    }
   ],
   "source": [
    "# modify config.py\n",
    "!cat config.py"
   ]
  },
  {
   "cell_type": "markdown",
   "metadata": {},
   "source": [
    "## tuning parameters"
   ]
  },
  {
   "cell_type": "code",
   "execution_count": null,
   "metadata": {
    "collapsed": false
   },
   "outputs": [],
   "source": [
    "%run select_models.py"
   ]
  },
  {
   "cell_type": "markdown",
   "metadata": {},
   "source": [
    "# predict result"
   ]
  },
  {
   "cell_type": "code",
   "execution_count": null,
   "metadata": {
    "collapsed": false
   },
   "outputs": [],
   "source": [
    "%run save_result.py"
   ]
  },
  {
   "cell_type": "markdown",
   "metadata": {},
   "source": [
    "# view result"
   ]
  },
  {
   "cell_type": "code",
   "execution_count": null,
   "metadata": {
    "collapsed": false
   },
   "outputs": [],
   "source": [
    "from config import extractor_name,estimator_name\n",
    "import pandas as pd\n",
    "destdir = './_results/%s-%s/'%(extractor_name,estimator_name)\n",
    "sub = pd.read_csv(destdir+'submission.csv')"
   ]
  },
  {
   "cell_type": "code",
   "execution_count": null,
   "metadata": {
    "collapsed": false
   },
   "outputs": [],
   "source": [
    "sub.describe()"
   ]
  },
  {
   "cell_type": "code",
   "execution_count": null,
   "metadata": {
    "collapsed": true
   },
   "outputs": [],
   "source": []
  }
 ],
 "metadata": {
  "kernelspec": {
   "display_name": "Python 2",
   "language": "python",
   "name": "python2"
  }
 },
 "nbformat": 4,
 "nbformat_minor": 0
}
