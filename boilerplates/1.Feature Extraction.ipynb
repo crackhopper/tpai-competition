{
 "cells": [
  {
   "cell_type": "markdown",
   "metadata": {},
   "source": [
    "# load and explore data"
   ]
  },
  {
   "cell_type": "code",
   "execution_count": null,
   "metadata": {
    "collapsed": false
   },
   "outputs": [],
   "source": [
    "from data import store,raw_data"
   ]
  },
  {
   "cell_type": "code",
   "execution_count": null,
   "metadata": {
    "collapsed": false
   },
   "outputs": [],
   "source": [
    "store"
   ]
  },
  {
   "cell_type": "markdown",
   "metadata": {},
   "source": [
    "# call a extractor"
   ]
  },
  {
   "cell_type": "code",
   "execution_count": null,
   "metadata": {
    "collapsed": false
   },
   "outputs": [],
   "source": [
    "from competition.extractors import Raw,Combine,SelectByClickTime\n",
    "extractFile = 'first_two_day.db'\n",
    "extractor = Combine([Raw(),SelectByClickTime([170000,190000])])"
   ]
  },
  {
   "cell_type": "code",
   "execution_count": null,
   "metadata": {
    "collapsed": false
   },
   "outputs": [],
   "source": [
    "from run_1_extract_features import extract_features\n",
    "extract_features(extractor,extractFile,raw_data)"
   ]
  },
  {
   "cell_type": "code",
   "execution_count": null,
   "metadata": {
    "collapsed": true
   },
   "outputs": [],
   "source": []
  },
  {
   "cell_type": "markdown",
   "metadata": {
    "collapsed": true
   },
   "source": [
    "# design a extractor "
   ]
  },
  {
   "cell_type": "code",
   "execution_count": null,
   "metadata": {
    "collapsed": true
   },
   "outputs": [],
   "source": [
    "from competition.extractors.Base import BaseExtractor\n",
    "import pandas as pd\n",
    "import numpy as np\n",
    "import os\n",
    "\n",
    "class AppCvr(BaseExtractor):\n",
    "    def __init__(self,X,y):\n",
    "        key = \"appID\"\n",
    "        dfTrain = X.copy()\n",
    "        dfTrain['label']=y.copy()\n",
    "        self.dfCvr = dfTrain.groupby(key).apply(lambda df: np.mean(df[\"label\"])).reset_index()\n",
    "        self.dfCvr.columns=['appID','appCvr']\n",
    "\n",
    "    def get_train(self,X,y,raw_data):\n",
    "        return self._extract(X,y,raw_data)\n",
    "\n",
    "    def get_test(self,X,y,raw_data):\n",
    "        return X,y,raw_data\n",
    "\n",
    "    def _extract(self,X,y,raw_data):\n",
    "        newX = pd.merge(X,self.dfCvr,on='appID',how='left')\n",
    "        return newX,y,raw_data"
   ]
  },
  {
   "cell_type": "code",
   "execution_count": null,
   "metadata": {
    "collapsed": false
   },
   "outputs": [],
   "source": [
    "# configuration\n",
    "from competition.extractors import Wrapper,Combine\n",
    "from extracted import load_extract_by_name\n",
    "\n",
    "loadFile = 'first_two_day.db'\n",
    "\n",
    "ext = load_extract_by_name(loadFile)\n",
    "trX = ext['trX']\n",
    "trY = ext['trY']\n",
    "teX = ext['teX']\n",
    "\n",
    "extractor = Combine([Wrapper(trX,trY,teX),AppCvr(trX,trY)])"
   ]
  },
  {
   "cell_type": "code",
   "execution_count": null,
   "metadata": {
    "collapsed": false
   },
   "outputs": [],
   "source": [
    "from data import store,raw_data\n",
    "newtrX,newtrY,_ = extractor.get_train(trX,trY,raw_data)"
   ]
  },
  {
   "cell_type": "code",
   "execution_count": null,
   "metadata": {
    "collapsed": false
   },
   "outputs": [],
   "source": [
    "print newtrX.columns"
   ]
  },
  {
   "cell_type": "code",
   "execution_count": null,
   "metadata": {
    "collapsed": false
   },
   "outputs": [],
   "source": [
    "print newtrX.shape, trX.shape"
   ]
  },
  {
   "cell_type": "markdown",
   "metadata": {},
   "source": [
    "# save and run the new extractor\n",
    "- save extractor into file\n",
    "- modify and save `configCustom.py`\n",
    "- run `run_1_extract_features.py`"
   ]
  },
  {
   "cell_type": "code",
   "execution_count": null,
   "metadata": {
    "collapsed": false
   },
   "outputs": [],
   "source": [
    "%%writefile competition/extractors/AppCvr.py\n",
    "# -*- coding:utf-8 -*-\n",
    "from competition.extractors.Base import BaseExtractor\n",
    "import pandas as pd\n",
    "import numpy as np\n",
    "import os\n",
    "\n",
    "class AppCvr(BaseExtractor):\n",
    "    def __init__(self,X,y):\n",
    "        key = \"appID\"\n",
    "        dfTrain = X.copy()\n",
    "        dfTrain['label']=y.copy()\n",
    "        self.dfCvr = dfTrain.groupby(key).apply(lambda df: np.mean(df[\"label\"])).reset_index()\n",
    "        self.dfCvr.columns=['appID','appCvr']\n",
    "\n",
    "    def get_train(self,X,y,raw_data):\n",
    "        return self._extract(X,y,raw_data)\n",
    "\n",
    "    def get_test(self,X,y,raw_data):\n",
    "        return self._extract(X,y,raw_data)\n",
    "\n",
    "    def _extract(self,X,y,raw_data):\n",
    "        newX = pd.merge(X,self.dfCvr,on='appID',how='left')\n",
    "        return newX,y,raw_data"
   ]
  },
  {
   "cell_type": "code",
   "execution_count": null,
   "metadata": {
    "collapsed": false
   },
   "outputs": [],
   "source": [
    "# only run once\n",
    "!echo \"from AppCvr import AppCvr\" >> competition/extractors/__init__.py\n",
    "!cat competition/extractors/__init__.py"
   ]
  },
  {
   "cell_type": "code",
   "execution_count": null,
   "metadata": {
    "collapsed": false
   },
   "outputs": [],
   "source": [
    "!cat config1.py"
   ]
  },
  {
   "cell_type": "code",
   "execution_count": null,
   "metadata": {
    "collapsed": false
   },
   "outputs": [],
   "source": [
    "%%writefile config1_rc.py\n",
    "# -*- coding:utf-8 -*-\n",
    "from competition.extractors import *\n",
    "\n",
    "extractDir = './_extracted/'\n",
    "extractFile = 'first_two_day_cvr.db'\n",
    "\n",
    "# extractor\n",
    "import pandas as pd\n",
    "import os\n",
    "loadFile = 'first_two_day.db'\n",
    "ext = pd.HDFStore(os.path.join(extractDir,loadFile))\n",
    "trX = ext['trX']\n",
    "trY = ext['trY']\n",
    "teX = ext['teX']\n",
    "extractor = Combine([Wrapper(trX,trY,teX),AppCvr(trX,trY)])"
   ]
  },
  {
   "cell_type": "code",
   "execution_count": null,
   "metadata": {
    "collapsed": false
   },
   "outputs": [],
   "source": [
    "%run run_1_extract_features.py"
   ]
  },
  {
   "cell_type": "code",
   "execution_count": 1,
   "metadata": {
    "collapsed": false
   },
   "outputs": [],
   "source": [
    "from extracted import loadFile"
   ]
  },
  {
   "cell_type": "code",
   "execution_count": 2,
   "metadata": {
    "collapsed": false
   },
   "outputs": [
    {
     "data": {
      "text/plain": [
       "<class 'pandas.io.pytables.HDFStore'>\n",
       "File path: ./_extracted/first_two_day_cvr.db\n",
       "/teX            frame        (shape->[338489,28])\n",
       "/trX            frame        (shape->[454544,28])\n",
       "/trY            series       (shape->[454544])   "
      ]
     },
     "execution_count": 2,
     "metadata": {},
     "output_type": "execute_result"
    }
   ],
   "source": [
    "loadFile()"
   ]
  },
  {
   "cell_type": "code",
   "execution_count": null,
   "metadata": {
    "collapsed": true
   },
   "outputs": [],
   "source": []
  }
 ],
 "metadata": {
  "kernelspec": {
   "display_name": "Python 2",
   "language": "python",
   "name": "python2"
  },
  "language_info": {
   "codemirror_mode": {
    "name": "ipython",
    "version": 2
   },
   "file_extension": ".py",
   "mimetype": "text/x-python",
   "name": "python",
   "nbconvert_exporter": "python",
   "pygments_lexer": "ipython2",
   "version": "2.7.12"
  }
 },
 "nbformat": 4,
 "nbformat_minor": 0
}
