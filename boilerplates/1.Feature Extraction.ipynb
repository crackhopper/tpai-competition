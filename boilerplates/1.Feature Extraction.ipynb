{
 "cells": [
  {
   "cell_type": "markdown",
   "metadata": {},
   "source": [
    "# load data"
   ]
  },
  {
   "cell_type": "code",
   "execution_count": null,
   "metadata": {
    "collapsed": false
   },
   "outputs": [],
   "source": [
    "from data import store, info\n",
    "store"
   ]
  },
  {
   "cell_type": "code",
   "execution_count": null,
   "metadata": {
    "collapsed": false
   },
   "outputs": [],
   "source": [
    "train=store['train']\n",
    "train.head()"
   ]
  },
  {
   "cell_type": "markdown",
   "metadata": {},
   "source": [
    "# load raw features"
   ]
  },
  {
   "cell_type": "code",
   "execution_count": null,
   "metadata": {
    "collapsed": false
   },
   "outputs": [],
   "source": [
    "f_user = store['feat-user-default']\n",
    "f_user.head()"
   ]
  },
  {
   "cell_type": "code",
   "execution_count": null,
   "metadata": {
    "collapsed": false
   },
   "outputs": [],
   "source": [
    "f_ad = store['feat-ad-default']\n",
    "f_ad.head()"
   ]
  },
  {
   "cell_type": "code",
   "execution_count": null,
   "metadata": {
    "collapsed": false
   },
   "outputs": [],
   "source": [
    "f_pos = store['position']\n",
    "f_pos.head()"
   ]
  },
  {
   "cell_type": "markdown",
   "metadata": {
    "collapsed": true
   },
   "source": [
    "# experiment by your self to design a extractor "
   ]
  },
  {
   "cell_type": "code",
   "execution_count": null,
   "metadata": {
    "collapsed": false
   },
   "outputs": [],
   "source": [
    "train = store['train']\n",
    "test = store['test']\n",
    "train_feats = train.columns\n",
    "test_feats = test.columns\n",
    "label_name = 'label'\n",
    "print train_feats\n",
    "print test_feats\n",
    "print label_name"
   ]
  },
  {
   "cell_type": "code",
   "execution_count": null,
   "metadata": {
    "collapsed": false
   },
   "outputs": [],
   "source": [
    "common_feat = list(set(train_feats).intersection(set(test_feats)))\n",
    "common_feat.remove(label_name)\n",
    "print common_feat\n",
    "\n",
    "class RawData(object):\n",
    "    pass\n",
    "raw_data = RawData()\n",
    "\n",
    "raw_data.store = store\n",
    "raw_data.label_name = label_name\n",
    "raw_data.common_feat = common_feat"
   ]
  },
  {
   "cell_type": "code",
   "execution_count": null,
   "metadata": {
    "collapsed": false
   },
   "outputs": [],
   "source": [
    "#%%writefile competition/featExtract/simple_features.py\n",
    "\n",
    "from competition.featExtract.base import Extractor\n",
    "import pandas as pd\n",
    "\n",
    "\n",
    "\n",
    "class SimpleFeatures(Extractor):\n",
    "    def __init__(self, raw_data):\n",
    "        self.raw_data = raw_data\n",
    "        store = raw_data.store\n",
    "        f_user = store['feat-user-default']\n",
    "        f_ad = store['feat-ad-default']\n",
    "        f_pos = store['position']\n",
    "        def merge_tables(X):\n",
    "            # user\n",
    "            X = pd.merge(X,f_user,how='left',left_on='userID',right_on='userID')\n",
    "            del X['userID']\n",
    "            # ad\n",
    "            X = pd.merge(X,f_ad,how='left',left_on='creativeID',right_on='creativeID')\n",
    "            del X['creativeID']\n",
    "            # pos\n",
    "            X = pd.merge(X,f_pos,how='left',left_on='positionID',right_on='positionID')\n",
    "            del X['positionID']\n",
    "\n",
    "            return X\n",
    "        self.merge_tables = merge_tables\n",
    "\n",
    "    def get_train(self):\n",
    "        X,y = self._get(self.raw_data.store['train']) \n",
    "        X = self.merge_tables(X)\n",
    "        return X,y\n",
    "\n",
    "    def get_test(self,dataframe):\n",
    "        X,y = self._get(self.raw_data.store['test']) \n",
    "        X = self.merge_tables(X)\n",
    "        return X,y\n",
    "\n",
    "    def _get(self,dataframe):\n",
    "        X = dataframe[self.raw_data.common_feat]\n",
    "        y = dataframe[self.raw_data.label_name]\n",
    "        return X,y\n"
   ]
  },
  {
   "cell_type": "code",
   "execution_count": null,
   "metadata": {
    "collapsed": false
   },
   "outputs": [],
   "source": [
    "from competition.featExtract.simple_features import SimpleFeatures\n",
    "prep = SimpleFeatures(raw_data)\n",
    "\n",
    "trainX,trainY = prep.get_train()\n",
    "testX,testY  = prep.get_train()\n"
   ]
  },
  {
   "cell_type": "code",
   "execution_count": null,
   "metadata": {
    "collapsed": false
   },
   "outputs": [],
   "source": [
    "print trainX.shape\n",
    "print testX.shape"
   ]
  },
  {
   "cell_type": "markdown",
   "metadata": {},
   "source": [
    "# run the extractor\n",
    "- modify `config.py`\n",
    "- run `extract_features.py`"
   ]
  },
  {
   "cell_type": "code",
   "execution_count": null,
   "metadata": {
    "collapsed": false
   },
   "outputs": [],
   "source": [
    "!cat config.py"
   ]
  },
  {
   "cell_type": "code",
   "execution_count": null,
   "metadata": {
    "collapsed": false
   },
   "outputs": [],
   "source": [
    "%run extract_features.py"
   ]
  },
  {
   "cell_type": "code",
   "execution_count": null,
   "metadata": {
    "collapsed": false
   },
   "outputs": [],
   "source": [
    "!ls ./_extracted/"
   ]
  },
  {
   "cell_type": "code",
   "execution_count": null,
   "metadata": {
    "collapsed": true
   },
   "outputs": [],
   "source": []
  }
 ],
 "metadata": {
  "kernelspec": {
   "display_name": "Python 2",
   "language": "python",
   "name": "python2"
  },
  "language_info": {
   "codemirror_mode": {
    "name": "ipython",
    "version": 2
   },
   "file_extension": ".py",
   "mimetype": "text/x-python",
   "name": "python",
   "nbconvert_exporter": "python",
   "pygments_lexer": "ipython2",
   "version": "2.7.12"
  }
 },
 "nbformat": 4,
 "nbformat_minor": 0
}
