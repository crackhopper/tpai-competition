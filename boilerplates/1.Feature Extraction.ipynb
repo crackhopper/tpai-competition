{
 "cells": [
  {
   "cell_type": "markdown",
   "metadata": {},
   "source": [
    "# load and explore data"
   ]
  },
  {
   "cell_type": "code",
   "execution_count": null,
   "metadata": {
    "collapsed": true
   },
   "outputs": [],
   "source": [
    "from data import store,raw_data"
   ]
  },
  {
   "cell_type": "code",
   "execution_count": null,
   "metadata": {
    "collapsed": false
   },
   "outputs": [],
   "source": [
    "store"
   ]
  },
  {
   "cell_type": "code",
   "execution_count": null,
   "metadata": {
    "collapsed": false
   },
   "outputs": [],
   "source": [
    "print 'common_feat :',raw_data.common_feat\n",
    "print 'label_name  :',raw_data.label_name"
   ]
  },
  {
   "cell_type": "code",
   "execution_count": null,
   "metadata": {
    "collapsed": false
   },
   "outputs": [],
   "source": [
    "raw_data.store is store"
   ]
  },
  {
   "cell_type": "markdown",
   "metadata": {
    "collapsed": true
   },
   "source": [
    "# design a extractor \n",
    "- uncomment to save it into file"
   ]
  },
  {
   "cell_type": "code",
   "execution_count": null,
   "metadata": {
    "collapsed": true
   },
   "outputs": [],
   "source": [
    "#%%writefile competition/extractors/sf_partial_2.py\n",
    "from competition.extractors.base import BaseExtractor\n",
    "import pandas as pd\n",
    "import os\n",
    "class SFPartial2(BaseExtractor):\n",
    "    def get_train(self,raw_data):\n",
    "        self.init(raw_data)\n",
    "        X,y = self._get(self.raw_data.store['train'])\n",
    "        idx = X['clickTime']<190000\n",
    "        X=X[idx]\n",
    "        y=y[idx]\n",
    "        X = self.merge_tables(X)\n",
    "        return X,y\n",
    "\n",
    "    def get_test(self,raw_data):\n",
    "        self.init(raw_data)\n",
    "        X,y = self._get(self.raw_data.store['test'])\n",
    "        X = self.merge_tables(X)\n",
    "        return X,y\n",
    "\n",
    "    def _get(self,dataframe):\n",
    "        X = dataframe[self.raw_data.common_feat]\n",
    "        y = dataframe[self.raw_data.label_name]\n",
    "        return X,y\n",
    "\n",
    "    def init(self, raw_data):\n",
    "        if hasattr(self,'bInit'):\n",
    "            return\n",
    "        self.raw_data = raw_data\n",
    "        store = raw_data.store\n",
    "        f_user = store['feat-user-default']\n",
    "        f_ad = store['feat-ad-default']\n",
    "        f_pos = store['position']\n",
    "        def merge_tables(X):\n",
    "            # user\n",
    "            X = pd.merge(X,f_user,how='left',left_on='userID',right_on='userID')\n",
    "            del X['userID']\n",
    "            # ad\n",
    "            X = pd.merge(X,f_ad,how='left',left_on='creativeID',right_on='creativeID')\n",
    "            del X['creativeID']\n",
    "            # pos\n",
    "            X = pd.merge(X,f_pos,how='left',left_on='positionID',right_on='positionID')\n",
    "            del X['positionID']\n",
    "\n",
    "            return X\n",
    "        self.merge_tables = merge_tables\n",
    "        self.bInit=True\n",
    "\n",
    "# must provide extractor and extractor_name\n",
    "extractor = SFPartial2()\n",
    "extractor_name = SFPartial2.__name__"
   ]
  },
  {
   "cell_type": "code",
   "execution_count": null,
   "metadata": {
    "collapsed": true
   },
   "outputs": [],
   "source": [
    "trainX,trainY = extractor.get_train(raw_data)"
   ]
  },
  {
   "cell_type": "code",
   "execution_count": null,
   "metadata": {
    "collapsed": false
   },
   "outputs": [],
   "source": [
    "print trainX.shape\n",
    "print trainX.columns\n",
    "trainX.head()"
   ]
  },
  {
   "cell_type": "code",
   "execution_count": null,
   "metadata": {
    "collapsed": true
   },
   "outputs": [],
   "source": [
    "testX,testY  = extractor.get_train(raw_data)"
   ]
  },
  {
   "cell_type": "code",
   "execution_count": null,
   "metadata": {
    "collapsed": false
   },
   "outputs": [],
   "source": [
    "print testX.shape\n",
    "print testX.columns\n",
    "testX.head()"
   ]
  },
  {
   "cell_type": "markdown",
   "metadata": {},
   "source": [
    "# run the extractor\n",
    "- save it into file\n",
    "- modify `configCustom.py`\n",
    "- run `run_1_extract_features.py`"
   ]
  },
  {
   "cell_type": "code",
   "execution_count": null,
   "metadata": {
    "collapsed": true
   },
   "outputs": [],
   "source": [
    "%%writefile competition/extractors/sf_partial_2.py\n",
    "from competition.extractors.base import BaseExtractor\n",
    "import pandas as pd\n",
    "import os\n",
    "class SFPartial2(BaseExtractor):\n",
    "    def get_train(self,raw_data):\n",
    "        self.init(raw_data)\n",
    "        X,y = self._get(self.raw_data.store['train'])\n",
    "        idx = X['clickTime']<190000\n",
    "        X=X[idx]\n",
    "        y=y[idx]\n",
    "        X = self.merge_tables(X)\n",
    "        return X,y\n",
    "\n",
    "    def get_test(self,raw_data):\n",
    "        self.init(raw_data)\n",
    "        X,y = self._get(self.raw_data.store['test'])\n",
    "        X = self.merge_tables(X)\n",
    "        return X,y\n",
    "\n",
    "    def _get(self,dataframe):\n",
    "        X = dataframe[self.raw_data.common_feat]\n",
    "        y = dataframe[self.raw_data.label_name]\n",
    "        return X,y\n",
    "\n",
    "    def init(self, raw_data):\n",
    "        if hasattr(self,'bInit'):\n",
    "            return\n",
    "        self.raw_data = raw_data\n",
    "        store = raw_data.store\n",
    "        f_user = store['feat-user-default']\n",
    "        f_ad = store['feat-ad-default']\n",
    "        f_pos = store['position']\n",
    "        def merge_tables(X):\n",
    "            # user\n",
    "            X = pd.merge(X,f_user,how='left',left_on='userID',right_on='userID')\n",
    "            del X['userID']\n",
    "            # ad\n",
    "            X = pd.merge(X,f_ad,how='left',left_on='creativeID',right_on='creativeID')\n",
    "            del X['creativeID']\n",
    "            # pos\n",
    "            X = pd.merge(X,f_pos,how='left',left_on='positionID',right_on='positionID')\n",
    "            del X['positionID']\n",
    "\n",
    "            return X\n",
    "        self.merge_tables = merge_tables\n",
    "        self.bInit=True\n",
    "\n",
    "# must provide extractor and extractor_name\n",
    "extractor = SFPartial2()\n",
    "extractor_name = SFPartial2.__name__"
   ]
  },
  {
   "cell_type": "code",
   "execution_count": null,
   "metadata": {
    "collapsed": true
   },
   "outputs": [],
   "source": [
    "%%writefile configCustom.py\n",
    "dataDir = './_data/'\n",
    "extractDir = './_extracted/'\n",
    "resultDir = './_result/'\n",
    "\n",
    "dataFile = 'store.db'\n",
    "infoFile = 'info.pkl'\n",
    "\n",
    "# extractor\n",
    "from competition.extractors.sf_partial_2 import extractor,extractor_name\n",
    "\n",
    "# model\n",
    "from competition.models.impute_xgb import estimator,estimator_name\n",
    "\n",
    "tuned_parameters = [{\n",
    "    'impute__copy':[False],\n",
    "    'xgb__colsample_bytree': [0.5],\n",
    "    'xgb__gamma': [0],\n",
    "    'xgb__learning_rate': [0.1],\n",
    "    'xgb__max_depth': [3],\n",
    "    'xgb__min_child_weight': [1],\n",
    "    'xgb__objective': ['binary:logistic'],\n",
    "    'xgb__subsample': [1]\n",
    "},]\n",
    "\n",
    "# other configs\n",
    "bShuffle = True\n",
    "bProb = True\n"
   ]
  },
  {
   "cell_type": "code",
   "execution_count": null,
   "metadata": {
    "collapsed": false
   },
   "outputs": [],
   "source": [
    "%run run_1_extract_features.py"
   ]
  },
  {
   "cell_type": "code",
   "execution_count": null,
   "metadata": {
    "collapsed": true
   },
   "outputs": [],
   "source": []
  }
 ],
 "metadata": {
  "kernelspec": {
   "display_name": "Python 2",
   "language": "python",
   "name": "python2"
  },
  "language_info": {
   "codemirror_mode": {
    "name": "ipython",
    "version": 2
   },
   "file_extension": ".py",
   "mimetype": "text/x-python",
   "name": "python",
   "nbconvert_exporter": "python",
   "pygments_lexer": "ipython2",
   "version": "2.7.12"
  }
 },
 "nbformat": 4,
 "nbformat_minor": 0
}
