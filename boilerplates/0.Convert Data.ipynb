{
 "cells": [
  {
   "cell_type": "markdown",
   "metadata": {},
   "source": [
    "# Convert Data into pandas.frame\n",
    "- this is a file for experiment\n",
    "- after experiment, you need to modify the `convert_data.py` script for other user to setup the environment.\n",
    "\n",
    "NOTE: this file is just a playground for load and merge data."
   ]
  },
  {
   "cell_type": "code",
   "execution_count": null,
   "metadata": {
    "collapsed": false
   },
   "outputs": [],
   "source": [
    "import pandas as pd\n",
    "import os\n",
    "import pickle\n",
    "from config import *"
   ]
  },
  {
   "cell_type": "code",
   "execution_count": null,
   "metadata": {
    "collapsed": false
   },
   "outputs": [],
   "source": [
    "store = pd.HDFStore(os.path.join(convertedDir,convertedFile))\n",
    "info = open(os.path.join(convertedDir,convertedInfoFile),'wb')"
   ]
  },
  {
   "cell_type": "markdown",
   "metadata": {},
   "source": [
    "# meta information"
   ]
  },
  {
   "cell_type": "code",
   "execution_count": null,
   "metadata": {
    "collapsed": true
   },
   "outputs": [],
   "source": [
    "file_tb={\n",
    "  'ad':'广告特征文件\\n每行描述一条广告素材，各字段之间由逗号分隔，顺序依次为“creativeID，adID，camgaignID，advertiserID，appID，appPlatform”',\n",
    "  'app_categories':'App特征文件\\n每行代表一个App，各字段之间由逗号分隔，顺序依次为：“appID，appCategory”',\n",
    "  'app_categories':'广告位特征文件\\n每行描述一个广告位，各字段之间由逗号分隔，顺序依次为：“positionID，sitesetID，positionType”。',\n",
    "  'user': '用户基础特征文件\\n每行代表一个用户，各字段之间由逗号分隔，顺序依次为：“userID，age，gender，education，marriageStatus，haveBaby，hometown，residence”。',\n",
    "  'user_app_actions':'用户App安装流水文件\\n每行代表一个用户的单个App操作流水，各字段之间由逗号分隔，顺序依次为：“userID，installTime，appID”。\\n特别的，我们提供了训练数据开始时间之前16天开始连续30天的操作流水，即第1天0点到第31天0点。',\n",
    "  'user_installedapps':'用户App安装列表文件\\n每行代表一个用户安装的单个App，各字段之间由逗号分隔，顺序依次为：“userID，appID”。\\n特别的，我们提供了截止到第1天0点用户全部的App安装列表。',\n",
    "  'position':'广告位特征文件\\n每行描述一个广告位，各字段之间由逗号分隔，顺序依次为：“positionID，sitesetID，positionType”。',\n",
    "  'train':'训练样本文件',\n",
    "  'test':'测试样本文件',\n",
    "}\n",
    "\n",
    "pickle.dump(file_tb,info)"
   ]
  },
  {
   "cell_type": "markdown",
   "metadata": {},
   "source": [
    "# data"
   ]
  },
  {
   "cell_type": "code",
   "execution_count": null,
   "metadata": {
    "collapsed": true
   },
   "outputs": [],
   "source": [
    "for n,s in file_tb.items():\n",
    "    store[n]=pd.read_csv(dataDir+n+'.csv')\n",
    "store.flush(fsync=True)"
   ]
  },
  {
   "cell_type": "code",
   "execution_count": null,
   "metadata": {
    "collapsed": true
   },
   "outputs": [],
   "source": [
    "store.close()\n",
    "info.close()"
   ]
  },
  {
   "cell_type": "code",
   "execution_count": null,
   "metadata": {
    "collapsed": true
   },
   "outputs": [],
   "source": []
  }
 ],
 "metadata": {
  "kernelspec": {
   "display_name": "Python 2",
   "language": "python",
   "name": "python2"
  },
  "language_info": {
   "codemirror_mode": {
    "name": "ipython",
    "version": 2
   },
   "file_extension": ".py",
   "mimetype": "text/x-python",
   "name": "python",
   "nbconvert_exporter": "python",
   "pygments_lexer": "ipython2",
   "version": "2.7.12"
  }
 },
 "nbformat": 4,
 "nbformat_minor": 0
}
