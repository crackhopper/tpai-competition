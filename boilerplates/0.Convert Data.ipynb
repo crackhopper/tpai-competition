{
 "cells": [
  {
   "cell_type": "markdown",
   "metadata": {},
   "source": [
    "# Convert Data into pandas.frame\n",
    "- this is a file for experiment\n",
    "- after experiment, you need to modify the `convert_data.py` script for other user to setup the environment.\n",
    "\n",
    "NOTE: this file is just a playground for load and merge data."
   ]
  },
  {
   "cell_type": "code",
   "execution_count": null,
   "metadata": {
    "collapsed": false
   },
   "outputs": [],
   "source": [
    "import pandas as pd\n",
    "from config import *\n",
    "import os\n",
    "import pickle"
   ]
  },
  {
   "cell_type": "code",
   "execution_count": null,
   "metadata": {
    "collapsed": true
   },
   "outputs": [],
   "source": [
    "store = pd.HDFStore(os.path.join(dataDir,dataFile))\n",
    "info = open(os.path.join(dataDir,infoFile),'wb')"
   ]
  },
  {
   "cell_type": "markdown",
   "metadata": {},
   "source": [
    "# meta information"
   ]
  },
  {
   "cell_type": "code",
   "execution_count": null,
   "metadata": {
    "collapsed": true
   },
   "outputs": [],
   "source": [
    "file_tb={\n",
    "  'ad':'广告特征文件\\n每行描述一条广告素材，各字段之间由逗号分隔，顺序依次为“creativeID，adID，camgaignID，advertiserID，appID，appPlatform”',\n",
    "  'app_categories':'App特征文件\\n每行代表一个App，各字段之间由逗号分隔，顺序依次为：“appID，appCategory”',\n",
    "  'app_categories':'广告位特征文件\\n每行描述一个广告位，各字段之间由逗号分隔，顺序依次为：“positionID，sitesetID，positionType”。',\n",
    "  'user': '用户基础特征文件\\n每行代表一个用户，各字段之间由逗号分隔，顺序依次为：“userID，age，gender，education，marriageStatus，haveBaby，hometown，residence”。',\n",
    "  'user_app_actions':'用户App安装流水文件\\n每行代表一个用户的单个App操作流水，各字段之间由逗号分隔，顺序依次为：“userID，installTime，appID”。\\n特别的，我们提供了训练数据开始时间之前16天开始连续30天的操作流水，即第1天0点到第31天0点。',\n",
    "  'user_installedapps':'用户App安装列表文件\\n每行代表一个用户安装的单个App，各字段之间由逗号分隔，顺序依次为：“userID，appID”。\\n特别的，我们提供了截止到第1天0点用户全部的App安装列表。',\n",
    "  'position':'广告位特征文件\\n每行描述一个广告位，各字段之间由逗号分隔，顺序依次为：“positionID，sitesetID，positionType”。',\n",
    "  'train':'训练样本文件',\n",
    "  'test':'测试样本文件',\n",
    "}\n",
    "\n",
    "pickle.dump(file_tb,info)"
   ]
  },
  {
   "cell_type": "markdown",
   "metadata": {},
   "source": [
    "# data"
   ]
  },
  {
   "cell_type": "code",
   "execution_count": null,
   "metadata": {
    "collapsed": true
   },
   "outputs": [],
   "source": [
    "for n,s in file_tb.items():\n",
    "    store[n]=pd.read_csv(dataDir+n+'.csv')\n",
    "store.flush(fsync=True)"
   ]
  },
  {
   "cell_type": "markdown",
   "metadata": {},
   "source": [
    "# merging"
   ]
  },
  {
   "cell_type": "code",
   "execution_count": null,
   "metadata": {
    "collapsed": true
   },
   "outputs": [],
   "source": [
    "app_categories = store['app_categories']\n",
    "new_app_categories = app_categories.copy()\n",
    "appCate1=app_categories['appCategory']//100\n",
    "appCate1.head()\n",
    "new_app_categories.insert(0,'appCate1',appCate1)\n",
    "appCate2=app_categories['appCategory']%100\n",
    "appCate2.head()\n",
    "new_app_categories.insert(0,'appCate2',appCate2)\n"
   ]
  },
  {
   "cell_type": "code",
   "execution_count": null,
   "metadata": {
    "collapsed": true
   },
   "outputs": [],
   "source": [
    "# extract user's feature\n",
    "print \"extract user's feature\"\n",
    "\n",
    "res = store['user']\n",
    "print res.head()\n",
    "\n",
    "df = store['user_app_actions']\n",
    "df = pd.merge(df,new_app_categories,how='left',left_on='appID',right_on='appID')\n",
    "df['count']=df.index\n",
    "def _aggfunc(x):\n",
    "    if x.name == 'count':\n",
    "        return x.count()\n",
    "    elif x.name == 'appCate1':\n",
    "        return x.value_counts().index[0]\n",
    "grouped = df.groupby('userID')['appCate1','count'].agg(_aggfunc)\n",
    "grouped=grouped.reset_index(level=['userID'])\n",
    "res = pd.merge(res,grouped,how='left',left_on='userID',right_on='userID')\n",
    "print res.head()\n",
    "\n",
    "df = store['user_installedapps']\n",
    "df = pd.merge(df,new_app_categories,how='left',left_on='appID',right_on='appID')\n",
    "df['count']=df.index\n",
    "grouped = df.groupby('userID')['appCate1','count'].agg(_aggfunc)\n",
    "grouped=grouped.reset_index(level=['userID'])\n",
    "res = pd.merge(res,grouped,how='left',left_on='userID',right_on='userID',suffixes=('_act', '_inst'))\n",
    "\n",
    "print res.head()"
   ]
  },
  {
   "cell_type": "code",
   "execution_count": null,
   "metadata": {
    "collapsed": true
   },
   "outputs": [],
   "source": [
    "store['feat-user-default']=res"
   ]
  },
  {
   "cell_type": "code",
   "execution_count": null,
   "metadata": {
    "collapsed": true
   },
   "outputs": [],
   "source": [
    "# extract ad feature\n",
    "print 'extract ad feature'\n",
    "res = store['ad']\n",
    "res = pd.merge(res,new_app_categories,how='left',left_on='appID',right_on='appID')\n",
    "\n",
    "print res.head()"
   ]
  },
  {
   "cell_type": "code",
   "execution_count": null,
   "metadata": {
    "collapsed": true
   },
   "outputs": [],
   "source": [
    "store['feat-ad-default']=res"
   ]
  },
  {
   "cell_type": "code",
   "execution_count": null,
   "metadata": {
    "collapsed": true
   },
   "outputs": [],
   "source": [
    "# extract pos feature\n",
    "print 'extract pos feature'\n",
    "res = store['pos']\n",
    "\n",
    "print res.head()"
   ]
  },
  {
   "cell_type": "code",
   "execution_count": null,
   "metadata": {
    "collapsed": true
   },
   "outputs": [],
   "source": [
    "store['feat-pos-default']=res"
   ]
  },
  {
   "cell_type": "code",
   "execution_count": null,
   "metadata": {
    "collapsed": true
   },
   "outputs": [],
   "source": [
    "store.close()\n",
    "info.close()"
   ]
  },
  {
   "cell_type": "markdown",
   "metadata": {},
   "source": [
    "# save all\n",
    "- uncomment the first line to save"
   ]
  },
  {
   "cell_type": "code",
   "execution_count": null,
   "metadata": {
    "collapsed": false
   },
   "outputs": [],
   "source": [
    "%%writefile run_0_convert_data.py\n",
    "\n",
    "# -*- coding:utf-8 -*-\n",
    "import pandas as pd\n",
    "from config import *\n",
    "import os\n",
    "import pickle\n",
    "\n",
    "store = pd.HDFStore(os.path.join(dataDir,dataFile))\n",
    "info = open(os.path.join(dataDir,infoFile),'wb')\n",
    "\n",
    "# please re-write following codes for different competitions\n",
    "\n",
    "####################################################################\n",
    "################## load initial data\n",
    "####################################################################\n",
    "file_tb={\n",
    "  'ad':'广告特征文件\\n每行描述一条广告素材，各字段之间由逗号分隔，顺序依次为“creativeID，adID，camgaignID，advertiserID，appID，appPlatform”',\n",
    "  'app_categories':'App特征文件\\n每行代表一个App，各字段之间由逗号分隔，顺序依次为：“appID，appCategory”',\n",
    "  'app_categories':'广告位特征文件\\n每行描述一个广告位，各字段之间由逗号分隔，顺序依次为：“positionID，sitesetID，positionType”。',\n",
    "  'user': '用户基础特征文件\\n每行代表一个用户，各字段之间由逗号分隔，顺序依次为：“userID，age，gender，education，marriageStatus，haveBaby，hometown，residence”。',\n",
    "  'user_app_actions':'用户App安装流水文件\\n每行代表一个用户的单个App操作流水，各字段之间由逗号分隔，顺序依次为：“userID，installTime，appID”。\\n特别的，我们提供了训练数据开始时间之前16天开始连续30天的操作流水，即第1天0点到第31天0点。',\n",
    "  'user_installedapps':'用户App安装列表文件\\n每行代表一个用户安装的单个App，各字段之间由逗号分隔，顺序依次为：“userID，appID”。\\n特别的，我们提供了截止到第1天0点用户全部的App安装列表。',\n",
    "  'position':'广告位特征文件\\n每行描述一个广告位，各字段之间由逗号分隔，顺序依次为：“positionID，sitesetID，positionType”。',\n",
    "  'train':'训练样本文件',\n",
    "  'test':'测试样本文件',\n",
    "}\n",
    "\n",
    "pickle.dump(file_tb,info)\n",
    "\n",
    "for n,s in file_tb.items():\n",
    "    store[n]=pd.read_csv(dataDir+n+'.csv')\n",
    "store.flush(fsync=True)\n",
    "\n",
    "\n",
    "####################################################################\n",
    "# merge some tables to get a better start point for feature engineer.\n",
    "####################################################################\n",
    "\n",
    "# process the app_categories table\n",
    "app_categories = store['app_categories']\n",
    "new_app_categories = app_categories.copy()\n",
    "appCate1=app_categories['appCategory']//100\n",
    "appCate1.head()\n",
    "new_app_categories.insert(0,'appCate1',appCate1)\n",
    "appCate2=app_categories['appCategory']%100\n",
    "appCate2.head()\n",
    "new_app_categories.insert(0,'appCate2',appCate2)\n",
    "\n",
    "# extract user's feature\n",
    "print \"extract user's feature\"\n",
    "\n",
    "res = store['user']\n",
    "df = store['user_app_actions']\n",
    "df = pd.merge(df,new_app_categories,how='left',left_on='appID',right_on='appID')\n",
    "df['count']=df.index\n",
    "\n",
    "def _aggfunc(x):\n",
    "    if x.name == 'count':\n",
    "        return x.count()\n",
    "    elif x.name == 'appCate1':\n",
    "        return x.value_counts().index[0]\n",
    "grouped = df.groupby('userID')['appCate1','count'].agg(_aggfunc)\n",
    "grouped=grouped.reset_index(level=['userID'])\n",
    "res = pd.merge(res,grouped,how='left',left_on='userID',right_on='userID')\n",
    "df = store['user_installedapps']\n",
    "df = pd.merge(df,new_app_categories,how='left',left_on='appID',right_on='appID')\n",
    "df['count']=df.index\n",
    "grouped = df.groupby('userID')['appCate1','count'].agg(_aggfunc)\n",
    "grouped=grouped.reset_index(level=['userID'])\n",
    "res = pd.merge(res,grouped,how='left',left_on='userID',right_on='userID',suffixes=('_act', '_inst'))\n",
    "\n",
    "store['feat-user-default']=res\n",
    "\n",
    "# extract ad feature\n",
    "print 'extract ad feature'\n",
    "res = store['ad']\n",
    "res = pd.merge(res,new_app_categories,how='left',left_on='appID',right_on='appID')\n",
    "\n",
    "store['feat-ad-default']=res\n",
    "\n",
    "# extract pos feature\n",
    "print 'extract pos feature'\n",
    "res = store['pos']\n",
    "\n",
    "store['feat-pos-default']=res\n",
    "\n",
    "store.close()\n",
    "info.close()\n"
   ]
  },
  {
   "cell_type": "code",
   "execution_count": null,
   "metadata": {
    "collapsed": true
   },
   "outputs": [],
   "source": []
  }
 ],
 "metadata": {
  "kernelspec": {
   "display_name": "Python 2",
   "language": "python",
   "name": "python2"
  },
  "language_info": {
   "codemirror_mode": {
    "name": "ipython",
    "version": 2
   },
   "file_extension": ".py",
   "mimetype": "text/x-python",
   "name": "python",
   "nbconvert_exporter": "python",
   "pygments_lexer": "ipython2",
   "version": "2.7.12"
  }
 },
 "nbformat": 4,
 "nbformat_minor": 0
}
