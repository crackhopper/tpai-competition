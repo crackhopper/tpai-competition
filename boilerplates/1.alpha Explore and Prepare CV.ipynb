{
 "cells": [
  {
   "cell_type": "code",
   "execution_count": null,
   "metadata": {
    "collapsed": true
   },
   "outputs": [],
   "source": [
    "from data import store\n",
    "import pandas as pd\n",
    "import numpy as np"
   ]
  },
  {
   "cell_type": "code",
   "execution_count": null,
   "metadata": {
    "collapsed": false
   },
   "outputs": [],
   "source": [
    "train = store['train']\n",
    "train.head()"
   ]
  },
  {
   "cell_type": "code",
   "execution_count": null,
   "metadata": {
    "collapsed": true
   },
   "outputs": [],
   "source": [
    "dates = train['clickTime']\n",
    "dates = pd.DataFrame(dates//10000)\n",
    "dategrp = dates.groupby(by='clickTime').groups"
   ]
  },
  {
   "cell_type": "code",
   "execution_count": null,
   "metadata": {
    "collapsed": true
   },
   "outputs": [],
   "source": [
    "# some statistics\n",
    "clickCount={}\n",
    "convertCount={}\n",
    "convertRate={}\n",
    "usersCount={}\n",
    "\n",
    "labels = train['label']\n",
    "users = train['userID']\n",
    "for d in dategrp:\n",
    "    lbl = labels.iloc[dategrp[d]]\n",
    "    clickCount[d] = len(lbl)\n",
    "    convertCount[d] = np.sum(lbl)\n",
    "    convertRate[d] = convertCount[d]*1.0/clickCount[d]\n",
    "    \n",
    "    usrs = users.iloc[dategrp[d]]\n",
    "    usersCount[d] = len(users.value_counts())"
   ]
  },
  {
   "cell_type": "code",
   "execution_count": null,
   "metadata": {
    "collapsed": false
   },
   "outputs": [],
   "source": [
    "days = dategrp.keys()\n",
    "days"
   ]
  },
  {
   "cell_type": "code",
   "execution_count": null,
   "metadata": {
    "collapsed": true
   },
   "outputs": [],
   "source": [
    "def plotTable(tbl,mark='o'):\n",
    "    x = days\n",
    "    y = [tbl[d] for d in x]\n",
    "    plot(x,y,mark)"
   ]
  },
  {
   "cell_type": "code",
   "execution_count": null,
   "metadata": {
    "collapsed": false
   },
   "outputs": [],
   "source": [
    "%pylab inline\n",
    "plotTable(clickCount,'ro')\n",
    "clickCount"
   ]
  },
  {
   "cell_type": "code",
   "execution_count": null,
   "metadata": {
    "collapsed": false
   },
   "outputs": [],
   "source": [
    "plotTable(convertCount,'ro')\n",
    "convertCount"
   ]
  },
  {
   "cell_type": "code",
   "execution_count": null,
   "metadata": {
    "collapsed": false
   },
   "outputs": [],
   "source": [
    "plotTable(convertRate,'ro')\n",
    "convertRate"
   ]
  },
  {
   "cell_type": "code",
   "execution_count": null,
   "metadata": {
    "collapsed": false
   },
   "outputs": [],
   "source": [
    "plotTable(usersCount,'ro')\n",
    "usersCount"
   ]
  },
  {
   "cell_type": "code",
   "execution_count": null,
   "metadata": {
    "collapsed": false
   },
   "outputs": [],
   "source": [
    "plot(days,np.array(days)%7,'o')"
   ]
  },
  {
   "cell_type": "markdown",
   "metadata": {},
   "source": [
    "# 结论\n",
    "- 18，19，20号，点击量非常低。\n",
    "- 19号转化率非常高\n",
    "- 30号转化率非常低 (而一个星期前的23号，一切都很正常。原因？未知)\n",
    "\n",
    "\n",
    "因此，划分CV的时候，测试集要尽量避开18，19，20以及30号"
   ]
  },
  {
   "cell_type": "code",
   "execution_count": null,
   "metadata": {
    "collapsed": false
   },
   "outputs": [],
   "source": [
    "# 特征提取的时候使用的简化数据集\n",
    "split_grps = [\n",
    "    ([17,18],[19]),\n",
    "    ([21,22],[23]),\n",
    "#    ([25,26,27,28],[29,30]),\n",
    "]\n",
    "cv = []\n",
    "cvgrp = []\n",
    "for tr_grp, te_grp in split_grps:\n",
    "    train_idx = []\n",
    "    for t in tr_grp:\n",
    "        train_idx.extend(dategrp[t])\n",
    "    test_idx = []\n",
    "    for t in te_grp:\n",
    "        test_idx.extend(dategrp[t])\n",
    "    cv.append((train_idx,test_idx))\n",
    "    cvgrp.append((tr_grp,te_grp))\n",
    "\n",
    "dfcv = pd.DataFrame(cv)\n",
    "store['cv_simple'] = dfcv\n",
    "dfcv"
   ]
  },
  {
   "cell_type": "code",
   "execution_count": null,
   "metadata": {
    "collapsed": false
   },
   "outputs": [],
   "source": [
    "store.flush(fsync=True)"
   ]
  },
  {
   "cell_type": "code",
   "execution_count": null,
   "metadata": {
    "collapsed": false
   },
   "outputs": [],
   "source": [
    "# 特征提取的时候使用的简化数据集\n",
    "split_grps = [\n",
    "    ([17,18,19,20,21,22,23],[24]),\n",
    "    ([20,21,22,23,24,25,26],[27]),\n",
    "    ([17,18,19,20,21,22,23,24,25,26,27],[28,29]),\n",
    "    ([18,19,20,21,22,23,24,25,26,27,28],[29,30]),\n",
    "]\n",
    "cv = []\n",
    "cvgrp = []\n",
    "for tr_grp, te_grp in split_grps:\n",
    "    train_idx = []\n",
    "    for t in tr_grp:\n",
    "        train_idx.extend(dategrp[t])\n",
    "    test_idx = []\n",
    "    for t in te_grp:\n",
    "        test_idx.extend(dategrp[t])\n",
    "    cv.append((train_idx,test_idx))\n",
    "    cvgrp.append((tr_grp,te_grp))\n",
    "\n",
    "dfcv = pd.DataFrame(cv)\n",
    "store['cv_full'] = dfcv\n",
    "dfcv"
   ]
  },
  {
   "cell_type": "code",
   "execution_count": null,
   "metadata": {
    "collapsed": true
   },
   "outputs": [],
   "source": [
    "store.close()"
   ]
  },
  {
   "cell_type": "code",
   "execution_count": null,
   "metadata": {
    "collapsed": true
   },
   "outputs": [],
   "source": []
  }
 ],
 "metadata": {
  "kernelspec": {
   "display_name": "Python 2",
   "language": "python",
   "name": "python2"
  },
  "language_info": {
   "codemirror_mode": {
    "name": "ipython",
    "version": 2
   },
   "file_extension": ".py",
   "mimetype": "text/x-python",
   "name": "python",
   "nbconvert_exporter": "python",
   "pygments_lexer": "ipython2",
   "version": "2.7.12"
  }
 },
 "nbformat": 4,
 "nbformat_minor": 0
}
