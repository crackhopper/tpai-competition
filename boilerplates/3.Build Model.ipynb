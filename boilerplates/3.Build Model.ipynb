{
 "cells": [
  {
   "cell_type": "markdown",
   "metadata": {},
   "source": [
    "# References\n",
    "- preprocessing : http://scikit-learn.org/stable/modules/preprocessing.html\n",
    "- extraction : http://scikit-learn.org/stable/modules/feature_extraction.html\n",
    "- integrate with pipeline: http://scikit-learn.org/stable/modules/pipeline.html\n",
    "- cross validation : http://scikit-learn.org/stable/modules/cross_validation.html\n",
    "- grid search the parameter : http://scikit-learn.org/stable/modules/grid_search.html#exhaustive-grid-search"
   ]
  },
  {
   "cell_type": "markdown",
   "metadata": {},
   "source": [
    "# Tuning Model Inline"
   ]
  },
  {
   "cell_type": "code",
   "execution_count": null,
   "metadata": {
    "collapsed": false
   },
   "outputs": [],
   "source": [
    "import pandas as pd\n",
    "from util import loadExtracted\n",
    "extractedFile = 'raw_merge_stats.db'\n",
    "extracted = loadExtracted(extractedFile)"
   ]
  },
  {
   "cell_type": "code",
   "execution_count": null,
   "metadata": {
    "collapsed": false
   },
   "outputs": [],
   "source": [
    "extracted"
   ]
  },
  {
   "cell_type": "code",
   "execution_count": null,
   "metadata": {
    "collapsed": true
   },
   "outputs": [],
   "source": [
    "trX = extracted['trX']\n",
    "trY = extracted['trY']\n",
    "teX = extracted['teX']"
   ]
  },
  {
   "cell_type": "code",
   "execution_count": null,
   "metadata": {
    "collapsed": false
   },
   "outputs": [],
   "source": [
    "from util import loadCVStore\n",
    "cvStore = loadCVStore()\n",
    "cvStore"
   ]
  },
  {
   "cell_type": "code",
   "execution_count": null,
   "metadata": {
    "collapsed": false
   },
   "outputs": [],
   "source": [
    "from xgboost.sklearn import XGBModel\n",
    "estimator = XGBModel()\n",
    "estimator.get_params()"
   ]
  },
  {
   "cell_type": "code",
   "execution_count": null,
   "metadata": {
    "collapsed": false
   },
   "outputs": [],
   "source": [
    "cvlist = cvStore['cv_simple'].as_matrix()  # we use simple cv set at first\n",
    "for tr,te in cvlist:\n",
    "    print len(tr),len(te)"
   ]
  },
  {
   "cell_type": "code",
   "execution_count": null,
   "metadata": {
    "collapsed": true
   },
   "outputs": [],
   "source": [
    "tuned_parameters = {\n",
    "#    'base_score': 0.5,\n",
    "    'colsample_bylevel': [0.8],\n",
    "    'colsample_bytree': [0.5,0.8],\n",
    "#    'gamma': 0,\n",
    "#    'learning_rate': 0.1,\n",
    "#    'max_delta_step': 0,\n",
    "    'max_depth': [5],\n",
    "#    'min_child_weight': 1,\n",
    "#    'missing': None,\n",
    "    'n_estimators': [50],\n",
    "#    'nthread': -1,\n",
    "    'objective': ['binary:logistic'],\n",
    "#    'reg_alpha': 0,\n",
    "#    'reg_lambda': 1,\n",
    "#    'scale_pos_weight': 1,\n",
    "#    'seed': 0,\n",
    "#    'silent': True,\n",
    "    'subsample': [0.8]\n",
    "};"
   ]
  },
  {
   "cell_type": "code",
   "execution_count": null,
   "metadata": {
    "collapsed": true
   },
   "outputs": [],
   "source": [
    "from sklearn.model_selection import GridSearchCV\n",
    "from competition.models import official_score\n",
    "\n",
    "score = official_score\n",
    "clf = GridSearchCV(estimator, tuned_parameters, cv=cvlist, scoring= score)"
   ]
  },
  {
   "cell_type": "code",
   "execution_count": null,
   "metadata": {
    "collapsed": false,
    "scrolled": false
   },
   "outputs": [],
   "source": [
    "%%time\n",
    "import datetime\n",
    "start_tm = datetime.datetime.now()\n",
    "clf.fit(trX,trY)\n",
    "end_tm = datetime.datetime.now()\n",
    "duration = '[%s] tunning paramter cost: %s'%(start_tm,end_tm-start_tm)\n",
    "!echo $duration >> log.txt"
   ]
  },
  {
   "cell_type": "code",
   "execution_count": null,
   "metadata": {
    "collapsed": false
   },
   "outputs": [],
   "source": [
    "clf.cv_results_"
   ]
  },
  {
   "cell_type": "code",
   "execution_count": null,
   "metadata": {
    "collapsed": false
   },
   "outputs": [],
   "source": [
    "clf.best_params_"
   ]
  },
  {
   "cell_type": "code",
   "execution_count": null,
   "metadata": {
    "collapsed": false
   },
   "outputs": [],
   "source": [
    "clf.best_estimator_"
   ]
  },
  {
   "cell_type": "code",
   "execution_count": null,
   "metadata": {
    "collapsed": false
   },
   "outputs": [],
   "source": [
    "!cat log.txt"
   ]
  },
  {
   "cell_type": "code",
   "execution_count": null,
   "metadata": {
    "collapsed": false
   },
   "outputs": [],
   "source": [
    "# save result:\n",
    "mts = clf.cv_results_['mean_train_score']\n",
    "mes = clf.cv_results_['mean_test_score']\n",
    "with open('tune_results.txt','w') as f:\n",
    "    f.write('mean_train_score\\n')\n",
    "    f.write(str(mts))\n",
    "    f.write('\\nmean_test_score\\n')\n",
    "    f.write(str(mes))\n",
    "    f.write('\\nbest param\\n')\n",
    "    f.write(str(clf.best_params_))\n",
    "print 'done'"
   ]
  },
  {
   "cell_type": "code",
   "execution_count": null,
   "metadata": {
    "collapsed": false
   },
   "outputs": [],
   "source": [
    "!cat tune_results.txt"
   ]
  },
  {
   "cell_type": "markdown",
   "metadata": {},
   "source": [
    "# Save Model "
   ]
  },
  {
   "cell_type": "code",
   "execution_count": null,
   "metadata": {
    "collapsed": false
   },
   "outputs": [],
   "source": [
    "%%writefile ./competition/models/xgb.py\n",
    "from xgboost.sklearn import XGBModel\n",
    "estimator = XGBModel()\n",
    "estimator_name = 'xgb'"
   ]
  },
  {
   "cell_type": "code",
   "execution_count": null,
   "metadata": {
    "collapsed": false
   },
   "outputs": [],
   "source": [
    "!cat tune_results.txt"
   ]
  },
  {
   "cell_type": "code",
   "execution_count": null,
   "metadata": {
    "collapsed": true
   },
   "outputs": [],
   "source": [
    "para_name = '_1'\n",
    "bestPara = {'colsample_bytree': 0.8, 'colsample_bylevel': 0.8, \n",
    "            'n_estimators': 50, 'subsample': 0.8, \n",
    "            'objective': 'binary:logistic', 'max_depth': 5}"
   ]
  },
  {
   "cell_type": "code",
   "execution_count": null,
   "metadata": {
    "collapsed": false
   },
   "outputs": [],
   "source": [
    "from competition.models.xgb import estimator,estimator_name\n",
    "estimator.set_params(**bestPara)\n",
    "estimator"
   ]
  },
  {
   "cell_type": "markdown",
   "metadata": {},
   "source": [
    "- train on full set and save"
   ]
  },
  {
   "cell_type": "code",
   "execution_count": null,
   "metadata": {
    "collapsed": false
   },
   "outputs": [],
   "source": [
    "from util import loadExtracted\n",
    "extractFile = 'raw_merge_stats.db'\n",
    "dset = loadExtracted(extractFile)\n",
    "dset"
   ]
  },
  {
   "cell_type": "code",
   "execution_count": null,
   "metadata": {
    "collapsed": false
   },
   "outputs": [],
   "source": [
    "estimator.fit(dset['trX'],dset['trY'])"
   ]
  },
  {
   "cell_type": "code",
   "execution_count": null,
   "metadata": {
    "collapsed": false
   },
   "outputs": [],
   "source": [
    "print extractFile,estimator_name,para_name"
   ]
  },
  {
   "cell_type": "code",
   "execution_count": null,
   "metadata": {
    "collapsed": false
   },
   "outputs": [],
   "source": [
    "from util import saveModel\n",
    "saveModel(estimator,extractFile,estimator_name,para_name)"
   ]
  },
  {
   "cell_type": "markdown",
   "metadata": {},
   "source": [
    "- predict result"
   ]
  },
  {
   "cell_type": "code",
   "execution_count": null,
   "metadata": {
    "collapsed": false
   },
   "outputs": [],
   "source": [
    "from util import predictResult\n",
    "predictResult(estimator,extractFile,estimator_name,para_name)"
   ]
  },
  {
   "cell_type": "markdown",
   "metadata": {},
   "source": [
    "- view result"
   ]
  },
  {
   "cell_type": "code",
   "execution_count": null,
   "metadata": {
    "collapsed": false
   },
   "outputs": [],
   "source": [
    "from util import getSubmission\n",
    "getSubmission(extractFile,estimator_name,para_name)"
   ]
  },
  {
   "cell_type": "code",
   "execution_count": null,
   "metadata": {
    "collapsed": true
   },
   "outputs": [],
   "source": []
  }
 ],
 "metadata": {
  "kernelspec": {
   "display_name": "Python 2",
   "language": "python",
   "name": "python2"
  },
  "language_info": {
   "codemirror_mode": {
    "name": "ipython",
    "version": 2
   },
   "file_extension": ".py",
   "mimetype": "text/x-python",
   "name": "python",
   "nbconvert_exporter": "python",
   "pygments_lexer": "ipython2",
   "version": "2.7.12"
  }
 },
 "nbformat": 4,
 "nbformat_minor": 0
}
