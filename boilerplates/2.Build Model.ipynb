{
 "cells": [
  {
   "cell_type": "markdown",
   "metadata": {},
   "source": [
    "# References\n",
    "- preprocessing : http://scikit-learn.org/stable/modules/preprocessing.html\n",
    "- extraction : http://scikit-learn.org/stable/modules/feature_extraction.html\n",
    "- integrate with pipeline: http://scikit-learn.org/stable/modules/pipeline.html\n",
    "- cross validation : http://scikit-learn.org/stable/modules/cross_validation.html\n",
    "- grid search the parameter : http://scikit-learn.org/stable/modules/grid_search.html#exhaustive-grid-search"
   ]
  },
  {
   "cell_type": "markdown",
   "metadata": {},
   "source": [
    "# Build Model\n",
    "- define a model"
   ]
  },
  {
   "cell_type": "code",
   "execution_count": null,
   "metadata": {
    "collapsed": false
   },
   "outputs": [],
   "source": [
    "%%writefile ./competition/models/impute_xgb.py\n",
    "from sklearn.pipeline import Pipeline\n",
    "from sklearn.preprocessing import Imputer\n",
    "from xgboost.sklearn import XGBModel\n",
    "from sklearn.ensemble import RandomForestClassifier\n",
    "import os\n",
    "estimators = [('impute', Imputer(missing_values='NaN', strategy='most_frequent', axis=0)),\n",
    "              ('xgb', XGBModel())]\n",
    "\n",
    "estimator = Pipeline(estimators)\n",
    "estimator_name = os.path.basename(__file__).split('.')[0]"
   ]
  },
  {
   "cell_type": "markdown",
   "metadata": {},
   "source": [
    "- change the config file"
   ]
  },
  {
   "cell_type": "code",
   "execution_count": null,
   "metadata": {
    "collapsed": false
   },
   "outputs": [],
   "source": [
    "%%writefile configCustom.py\n",
    "dataDir = './_data/'\n",
    "extractDir = './_extracted/'\n",
    "resultDir = './_result/'\n",
    "\n",
    "dataFile = 'store.db'\n",
    "infoFile = 'info.pkl'\n",
    "\n",
    "# extractor\n",
    "from competition.extractors.sf_partial_2 import extractor,extractor_name\n",
    "\n",
    "# model\n",
    "from competition.models.impute_xgb import estimator,estimator_name\n",
    "\n",
    "tuned_parameters = [{\n",
    "    'impute__copy':[False],\n",
    "    'xgb__colsample_bytree': [0.5],\n",
    "    'xgb__gamma': [0],\n",
    "    'xgb__learning_rate': [0.1],\n",
    "    'xgb__max_depth': [3],\n",
    "    'xgb__min_child_weight': [1],\n",
    "    'xgb__objective': ['binary:logistic'],\n",
    "    'xgb__subsample': [1]\n",
    "},]\n",
    "\n",
    "# other configs\n",
    "bShuffle = True\n",
    "bProb = True"
   ]
  },
  {
   "cell_type": "markdown",
   "metadata": {},
   "source": [
    "- run the model"
   ]
  },
  {
   "cell_type": "code",
   "execution_count": null,
   "metadata": {
    "collapsed": false
   },
   "outputs": [],
   "source": [
    "%run run_2_select_models.py"
   ]
  },
  {
   "cell_type": "markdown",
   "metadata": {},
   "source": [
    "# view the model"
   ]
  },
  {
   "cell_type": "code",
   "execution_count": null,
   "metadata": {
    "collapsed": false
   },
   "outputs": [],
   "source": [
    "from model import clf\n",
    "clf"
   ]
  },
  {
   "cell_type": "code",
   "execution_count": null,
   "metadata": {
    "collapsed": false
   },
   "outputs": [],
   "source": [
    "clf.best_params_"
   ]
  },
  {
   "cell_type": "markdown",
   "metadata": {},
   "source": [
    "# predict"
   ]
  },
  {
   "cell_type": "code",
   "execution_count": null,
   "metadata": {
    "collapsed": false
   },
   "outputs": [],
   "source": [
    "%run run_3_predict.py"
   ]
  },
  {
   "cell_type": "markdown",
   "metadata": {},
   "source": [
    "# view result"
   ]
  },
  {
   "cell_type": "code",
   "execution_count": null,
   "metadata": {
    "collapsed": false
   },
   "outputs": [],
   "source": [
    "from config import extractor_name,estimator_name\n",
    "import pandas as pd\n",
    "destdir = './_results/%s-%s/'%(extractor_name,estimator_name)\n",
    "sub = pd.read_csv(destdir+'submission.csv')\n",
    "\n",
    "sub.describe()"
   ]
  }
 ],
 "metadata": {
  "kernelspec": {
   "display_name": "Python 2",
   "language": "python",
   "name": "python2"
  },
  "language_info": {
   "codemirror_mode": {
    "name": "ipython",
    "version": 2
   },
   "file_extension": ".py",
   "mimetype": "text/x-python",
   "name": "python",
   "nbconvert_exporter": "python",
   "pygments_lexer": "ipython2",
   "version": "2.7.12"
  }
 },
 "nbformat": 4,
 "nbformat_minor": 0
}
