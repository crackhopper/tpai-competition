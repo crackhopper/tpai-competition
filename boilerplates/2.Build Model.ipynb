{
 "cells": [
  {
   "cell_type": "markdown",
   "metadata": {},
   "source": [
    "# References\n",
    "- preprocessing : http://scikit-learn.org/stable/modules/preprocessing.html\n",
    "- extraction : http://scikit-learn.org/stable/modules/feature_extraction.html\n",
    "- integrate with pipeline: http://scikit-learn.org/stable/modules/pipeline.html\n",
    "- cross validation : http://scikit-learn.org/stable/modules/cross_validation.html\n",
    "- grid search the parameter : http://scikit-learn.org/stable/modules/grid_search.html#exhaustive-grid-search"
   ]
  },
  {
   "cell_type": "markdown",
   "metadata": {},
   "source": [
    "# Tuning Model Inline"
   ]
  },
  {
   "cell_type": "code",
   "execution_count": null,
   "metadata": {
    "collapsed": false
   },
   "outputs": [],
   "source": [
    "import pandas as pd\n",
    "from conf\n",
    "extracted = pd.HDFStore('./_extracted/'+'raw_stats.db')"
   ]
  },
  {
   "cell_type": "code",
   "execution_count": null,
   "metadata": {
    "collapsed": false
   },
   "outputs": [],
   "source": [
    "extracted"
   ]
  },
  {
   "cell_type": "code",
   "execution_count": null,
   "metadata": {
    "collapsed": true
   },
   "outputs": [],
   "source": [
    "trX = extracted['trX']\n",
    "trY = extracted['trY']\n",
    "teX = extracted['teX']"
   ]
  },
  {
   "cell_type": "code",
   "execution_count": null,
   "metadata": {
    "collapsed": false
   },
   "outputs": [],
   "source": [
    "from data import store\n",
    "store"
   ]
  },
  {
   "cell_type": "code",
   "execution_count": null,
   "metadata": {
    "collapsed": false
   },
   "outputs": [],
   "source": [
    "from xgboost.sklearn import XGBModel\n",
    "\n",
    "estimator = XGBModel()\n",
    "estimator.get_params()"
   ]
  },
  {
   "cell_type": "code",
   "execution_count": null,
   "metadata": {
    "collapsed": true
   },
   "outputs": [],
   "source": [
    "cvlist = store['cv_simple'].as_matrix()\n",
    "tuned_parameters = {\n",
    "#    'base_score': 0.5,\n",
    "    'colsample_bylevel': [0.8],\n",
    "#    'colsample_bytree': [0.5,0.8],\n",
    "#    'gamma': 0,\n",
    "#    'learning_rate': 0.1,\n",
    "#    'max_delta_step': 0,\n",
    "    'max_depth': [5],\n",
    "#    'min_child_weight': 1,\n",
    "#    'missing': None,\n",
    "    'n_estimators': [50],\n",
    "#    'nthread': -1,\n",
    "    'objective': ['binary:logistic'],\n",
    "#    'reg_alpha': 0,\n",
    "#    'reg_lambda': 1,\n",
    "#    'scale_pos_weight': 1,\n",
    "#    'seed': 0,\n",
    "#    'silent': True,\n",
    "    'subsample': [0.8]\n",
    "};"
   ]
  },
  {
   "cell_type": "code",
   "execution_count": null,
   "metadata": {
    "collapsed": false
   },
   "outputs": [],
   "source": [
    "for tr,te in cvlist:\n",
    "    print len(tr),len(te)"
   ]
  },
  {
   "cell_type": "code",
   "execution_count": null,
   "metadata": {
    "collapsed": true
   },
   "outputs": [],
   "source": [
    "from sklearn.model_selection import GridSearchCV\n",
    "from competition.models import official_score\n",
    "\n",
    "score = official_score\n",
    "clf = GridSearchCV(estimator, tuned_parameters, cv=cvlist, scoring= score)"
   ]
  },
  {
   "cell_type": "code",
   "execution_count": null,
   "metadata": {
    "collapsed": false,
    "scrolled": false
   },
   "outputs": [],
   "source": [
    "%%time\n",
    "clf.fit(trX,trY)"
   ]
  },
  {
   "cell_type": "code",
   "execution_count": null,
   "metadata": {
    "collapsed": false
   },
   "outputs": [],
   "source": [
    "clf.cv_results_"
   ]
  },
  {
   "cell_type": "code",
   "execution_count": null,
   "metadata": {
    "collapsed": false
   },
   "outputs": [],
   "source": [
    "clf.best_params_"
   ]
  },
  {
   "cell_type": "code",
   "execution_count": null,
   "metadata": {
    "collapsed": false
   },
   "outputs": [],
   "source": [
    "clf.best_estimator_"
   ]
  },
  {
   "cell_type": "code",
   "execution_count": null,
   "metadata": {
    "collapsed": true
   },
   "outputs": [],
   "source": []
  },
  {
   "cell_type": "code",
   "execution_count": null,
   "metadata": {
    "collapsed": true
   },
   "outputs": [],
   "source": []
  },
  {
   "cell_type": "markdown",
   "metadata": {},
   "source": [
    "# Save Model and Run\n",
    "- define a model"
   ]
  },
  {
   "cell_type": "code",
   "execution_count": null,
   "metadata": {
    "collapsed": false
   },
   "outputs": [],
   "source": [
    "%%writefile ./competition/models/tune_1_xgb.py\n",
    "from xgboost.sklearn import XGBModel\n",
    "import os\n",
    "bestPara = {'colsample_bylevel': 0.8,\n",
    " 'max_depth': 5,\n",
    " 'n_estimators': 50,\n",
    " 'objective': 'binary:logistic',\n",
    " 'subsample': 0.8}\n",
    "estimator = XGBModel(**bestPara)\n",
    "estimator_name = 'tune_1_xgb'"
   ]
  },
  {
   "cell_type": "markdown",
   "metadata": {},
   "source": [
    "- change the config file"
   ]
  },
  {
   "cell_type": "code",
   "execution_count": null,
   "metadata": {
    "collapsed": false
   },
   "outputs": [],
   "source": [
    "%%writefile config2_rc.py\n",
    "# -*- coding:utf-8 -*-\n",
    "from competition.models.tune_1_xgb import estimator,estimator_name\n",
    "input_file = 'raw_stats.db'\n",
    "bShuffle = False\n",
    "bProb = True"
   ]
  },
  {
   "cell_type": "markdown",
   "metadata": {},
   "source": [
    "- run the model"
   ]
  },
  {
   "cell_type": "code",
   "execution_count": null,
   "metadata": {
    "collapsed": false
   },
   "outputs": [],
   "source": [
    "%run run_2_predict.py"
   ]
  },
  {
   "cell_type": "markdown",
   "metadata": {},
   "source": [
    "# view result"
   ]
  },
  {
   "cell_type": "code",
   "execution_count": null,
   "metadata": {
    "collapsed": false
   },
   "outputs": [],
   "source": [
    "from load_cur_submission import submission\n",
    "submission"
   ]
  },
  {
   "cell_type": "code",
   "execution_count": null,
   "metadata": {
    "collapsed": true
   },
   "outputs": [],
   "source": []
  }
 ],
 "metadata": {
  "kernelspec": {
   "display_name": "Python 2",
   "language": "python",
   "name": "python2"
  },
  "language_info": {
   "codemirror_mode": {
    "name": "ipython",
    "version": 2
   },
   "file_extension": ".py",
   "mimetype": "text/x-python",
   "name": "python",
   "nbconvert_exporter": "python",
   "pygments_lexer": "ipython2",
   "version": "2.7.12"
  }
 },
 "nbformat": 4,
 "nbformat_minor": 0
}
