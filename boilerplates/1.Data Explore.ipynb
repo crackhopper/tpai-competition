{
 "cells": [
  {
   "cell_type": "code",
   "execution_count": null,
   "metadata": {
    "collapsed": false
   },
   "outputs": [],
   "source": [
    "from util import loadDataStore\n",
    "import pandas as pd\n",
    "import numpy as np\n",
    "store = loadDataStore()"
   ]
  },
  {
   "cell_type": "code",
   "execution_count": null,
   "metadata": {
    "collapsed": false
   },
   "outputs": [],
   "source": [
    "train = store['train']\n",
    "train.head()"
   ]
  },
  {
   "cell_type": "code",
   "execution_count": null,
   "metadata": {
    "collapsed": true
   },
   "outputs": [],
   "source": [
    "dates = train['clickTime']\n",
    "dates = pd.DataFrame(dates//10000)\n",
    "dategrp = dates.groupby(by='clickTime').groups"
   ]
  },
  {
   "cell_type": "code",
   "execution_count": null,
   "metadata": {
    "collapsed": true
   },
   "outputs": [],
   "source": [
    "# some statistics\n",
    "clickCount={}\n",
    "convertCount={}\n",
    "convertRate={}\n",
    "usersCount={}\n",
    "\n",
    "labels = train['label']\n",
    "users = train['userID']\n",
    "for d in dategrp:\n",
    "    lbl = labels.iloc[dategrp[d]]\n",
    "    clickCount[d] = len(lbl)\n",
    "    convertCount[d] = np.sum(lbl)\n",
    "    convertRate[d] = convertCount[d]*1.0/clickCount[d]\n",
    "    \n",
    "    usrs = users.iloc[dategrp[d]]\n",
    "    usersCount[d] = len(users.value_counts())"
   ]
  },
  {
   "cell_type": "code",
   "execution_count": null,
   "metadata": {
    "collapsed": false
   },
   "outputs": [],
   "source": [
    "days = dategrp.keys()\n",
    "days"
   ]
  },
  {
   "cell_type": "code",
   "execution_count": null,
   "metadata": {
    "collapsed": true
   },
   "outputs": [],
   "source": [
    "def plotTable(tbl,mark='o'):\n",
    "    x = days\n",
    "    y = [tbl[d] for d in x]\n",
    "    plot(x,y,mark)"
   ]
  },
  {
   "cell_type": "code",
   "execution_count": null,
   "metadata": {
    "collapsed": false
   },
   "outputs": [],
   "source": [
    "%pylab inline\n",
    "plotTable(clickCount,'ro')\n",
    "clickCount"
   ]
  },
  {
   "cell_type": "code",
   "execution_count": null,
   "metadata": {
    "collapsed": false
   },
   "outputs": [],
   "source": [
    "plotTable(convertCount,'ro')\n",
    "convertCount"
   ]
  },
  {
   "cell_type": "code",
   "execution_count": null,
   "metadata": {
    "collapsed": false
   },
   "outputs": [],
   "source": [
    "plotTable(convertRate,'ro')\n",
    "convertRate"
   ]
  },
  {
   "cell_type": "code",
   "execution_count": null,
   "metadata": {
    "collapsed": false
   },
   "outputs": [],
   "source": [
    "plotTable(usersCount,'ro')\n",
    "usersCount"
   ]
  },
  {
   "cell_type": "code",
   "execution_count": null,
   "metadata": {
    "collapsed": false
   },
   "outputs": [],
   "source": [
    "plot(days,np.array(days)%7,'o')"
   ]
  },
  {
   "cell_type": "markdown",
   "metadata": {},
   "source": [
    "# 结论\n",
    "- 18，19，20号，点击量非常低。\n",
    "- 19号转化率非常高\n",
    "- 30号转化率非常低 (而一个星期前的23号，一切都很正常。原因？未知)\n",
    "\n",
    "\n",
    "因此，划分CV的时候，测试集要尽量避开18，19，20以及30号"
   ]
  },
  {
   "cell_type": "code",
   "execution_count": null,
   "metadata": {
    "collapsed": true
   },
   "outputs": [],
   "source": []
  }
 ],
 "metadata": {
  "kernelspec": {
   "display_name": "Python 2",
   "language": "python",
   "name": "python2"
  },
  "language_info": {
   "codemirror_mode": {
    "name": "ipython",
    "version": 2
   },
   "file_extension": ".py",
   "mimetype": "text/x-python",
   "name": "python",
   "nbconvert_exporter": "python",
   "pygments_lexer": "ipython2",
   "version": "2.7.12"
  }
 },
 "nbformat": 4,
 "nbformat_minor": 0
}
