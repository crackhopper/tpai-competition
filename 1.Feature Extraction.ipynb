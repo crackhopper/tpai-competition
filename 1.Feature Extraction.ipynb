{
 "cells": [
  {
   "cell_type": "markdown",
   "metadata": {},
   "source": [
    "# load data"
   ]
  },
  {
   "cell_type": "code",
   "execution_count": null,
   "metadata": {
    "collapsed": false
   },
   "outputs": [],
   "source": [
    "from load_data import store, info\n",
    "store"
   ]
  },
  {
   "cell_type": "code",
   "execution_count": null,
   "metadata": {
    "collapsed": false
   },
   "outputs": [],
   "source": [
    "train=store['train']\n",
    "train.head()"
   ]
  },
  {
   "cell_type": "markdown",
   "metadata": {},
   "source": [
    "# load raw features"
   ]
  },
  {
   "cell_type": "code",
   "execution_count": null,
   "metadata": {
    "collapsed": false
   },
   "outputs": [],
   "source": [
    "f_user = store['feat-default-user']\n",
    "f_user.head()"
   ]
  },
  {
   "cell_type": "code",
   "execution_count": null,
   "metadata": {
    "collapsed": false
   },
   "outputs": [],
   "source": [
    "f_ad = store['feat-default-ad']\n",
    "f_ad.head()"
   ]
  },
  {
   "cell_type": "code",
   "execution_count": null,
   "metadata": {
    "collapsed": false
   },
   "outputs": [],
   "source": [
    "f_pos = store['feat-default-pos']\n",
    "f_pos.head()"
   ]
  },
  {
   "cell_type": "markdown",
   "metadata": {},
   "source": [
    "# current extractor"
   ]
  },
  {
   "cell_type": "code",
   "execution_count": null,
   "metadata": {
    "collapsed": false
   },
   "outputs": [],
   "source": [
    "!ls featExtract/"
   ]
  },
  {
   "cell_type": "markdown",
   "metadata": {
    "collapsed": true
   },
   "source": [
    "# experiment by your self to design a extractor "
   ]
  },
  {
   "cell_type": "code",
   "execution_count": null,
   "metadata": {
    "collapsed": false
   },
   "outputs": [],
   "source": [
    "from featExtract import *\n",
    "from featExtract.base import Extractor\n",
    "\n",
    "train_feat\n",
    "test_feat\n",
    "label_feat\n",
    "\n",
    "common_feat = list(set(train_feat).intersection(set(test_feat)))\n",
    "common_feat\n",
    "def merge_tables(X):\n",
    "    # user\n",
    "    X = pd.merge(X,f_user,how='left',left_on='userID',right_on='userID')\n",
    "    del X['userID']\n",
    "    # ad\n",
    "    X = pd.merge(X,f_ad,how='left',left_on='creativeID',right_on='creativeID')\n",
    "    del X['creativeID']\n",
    "    # pos\n",
    "    X = pd.merge(X,f_pos,how='left',left_on='positionID',right_on='positionID')\n",
    "    del X['positionID']\n",
    "\n",
    "    return X\n",
    "\n",
    "class SimpleFeatures(Preprocess):\n",
    "    def __init__(self):\n",
    "        self.common = list(set(train_feat).intersection(set(test_feat)))\n",
    "        self.common.remove(label_feat)\n",
    "\n",
    "    def get_train(self,dataframe):\n",
    "        X,y = self._get(dataframe) \n",
    "        X = merge_tables(X)\n",
    "        return X,y\n",
    "\n",
    "    def get_test(self,dataframe):\n",
    "        X,y = self._get(dataframe)\n",
    "        return X,y\n",
    "\n",
    "    def _get(self,dataframe):\n",
    "        X = dataframe[self.common]\n",
    "        y = dataframe[label_feat]\n",
    "        return X,y\n"
   ]
  },
  {
   "cell_type": "code",
   "execution_count": null,
   "metadata": {
    "collapsed": true
   },
   "outputs": [],
   "source": [
    "prep = Extractor()\n",
    "\n",
    "trainX,trainY = prep.get_train(store['train'])\n",
    "testX,testY  = prep.get_train(store['test'])"
   ]
  },
  {
   "cell_type": "markdown",
   "metadata": {},
   "source": [
    "# run the extractor\n",
    "- save the extractor into folder `./featExtract/`, and extractor should be subclassed from base.py\n",
    "- modify `doExtract.py`\n",
    "- run `python doExtract.py`"
   ]
  },
  {
   "cell_type": "code",
   "execution_count": null,
   "metadata": {
    "collapsed": false
   },
   "outputs": [],
   "source": [
    "!cat doExtract.py"
   ]
  },
  {
   "cell_type": "code",
   "execution_count": null,
   "metadata": {
    "collapsed": true
   },
   "outputs": [],
   "source": []
  }
 ],
 "metadata": {
  "kernelspec": {
   "display_name": "Python 2",
   "language": "python",
   "name": "python2"
  },
  "language_info": {
   "codemirror_mode": {
    "name": "ipython",
    "version": 2
   },
   "file_extension": ".py",
   "mimetype": "text/x-python",
   "name": "python",
   "nbconvert_exporter": "python",
   "pygments_lexer": "ipython2",
   "version": "2.7.12"
  }
 },
 "nbformat": 4,
 "nbformat_minor": 0
}
