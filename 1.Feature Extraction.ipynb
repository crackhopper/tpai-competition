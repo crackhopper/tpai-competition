{
 "cells": [
  {
   "cell_type": "markdown",
   "metadata": {},
   "source": [
    "# load data"
   ]
  },
  {
   "cell_type": "code",
   "execution_count": 1,
   "metadata": {
    "collapsed": false
   },
   "outputs": [
    {
     "data": {
      "text/plain": [
       "<class 'pandas.io.pytables.HDFStore'>\n",
       "File path: ./_data/store.db\n",
       "/ad                            frame        (shape->[6582,6])    \n",
       "/app_categories                frame        (shape->[217041,2])  \n",
       "/feat-ad-default               frame        (shape->[6582,9])    \n",
       "/feat-user-default             frame        (shape->[2805118,12])\n",
       "/position                      frame        (shape->[7645,3])    \n",
       "/test                          frame        (shape->[338489,8])  \n",
       "/train                         frame        (shape->[3749528,8]) \n",
       "/user                          frame        (shape->[2805118,8]) \n",
       "/user_app_actions              frame        (shape->[6003471,3]) \n",
       "/user_installedapps            frame        (shape->[84039009,2])"
      ]
     },
     "execution_count": 1,
     "metadata": {},
     "output_type": "execute_result"
    }
   ],
   "source": [
    "from data import store, info\n",
    "store"
   ]
  },
  {
   "cell_type": "code",
   "execution_count": 2,
   "metadata": {
    "collapsed": false
   },
   "outputs": [
    {
     "data": {
      "text/html": [
       "<div>\n",
       "<table border=\"1\" class=\"dataframe\">\n",
       "  <thead>\n",
       "    <tr style=\"text-align: right;\">\n",
       "      <th></th>\n",
       "      <th>label</th>\n",
       "      <th>clickTime</th>\n",
       "      <th>conversionTime</th>\n",
       "      <th>creativeID</th>\n",
       "      <th>userID</th>\n",
       "      <th>positionID</th>\n",
       "      <th>connectionType</th>\n",
       "      <th>telecomsOperator</th>\n",
       "    </tr>\n",
       "  </thead>\n",
       "  <tbody>\n",
       "    <tr>\n",
       "      <th>0</th>\n",
       "      <td>0</td>\n",
       "      <td>170000</td>\n",
       "      <td>NaN</td>\n",
       "      <td>3089</td>\n",
       "      <td>2798058</td>\n",
       "      <td>293</td>\n",
       "      <td>1</td>\n",
       "      <td>1</td>\n",
       "    </tr>\n",
       "    <tr>\n",
       "      <th>1</th>\n",
       "      <td>0</td>\n",
       "      <td>170000</td>\n",
       "      <td>NaN</td>\n",
       "      <td>1259</td>\n",
       "      <td>463234</td>\n",
       "      <td>6161</td>\n",
       "      <td>1</td>\n",
       "      <td>2</td>\n",
       "    </tr>\n",
       "    <tr>\n",
       "      <th>2</th>\n",
       "      <td>0</td>\n",
       "      <td>170000</td>\n",
       "      <td>NaN</td>\n",
       "      <td>4465</td>\n",
       "      <td>1857485</td>\n",
       "      <td>7434</td>\n",
       "      <td>4</td>\n",
       "      <td>1</td>\n",
       "    </tr>\n",
       "    <tr>\n",
       "      <th>3</th>\n",
       "      <td>0</td>\n",
       "      <td>170000</td>\n",
       "      <td>NaN</td>\n",
       "      <td>1004</td>\n",
       "      <td>2038823</td>\n",
       "      <td>977</td>\n",
       "      <td>1</td>\n",
       "      <td>1</td>\n",
       "    </tr>\n",
       "    <tr>\n",
       "      <th>4</th>\n",
       "      <td>0</td>\n",
       "      <td>170000</td>\n",
       "      <td>NaN</td>\n",
       "      <td>1887</td>\n",
       "      <td>2015141</td>\n",
       "      <td>3688</td>\n",
       "      <td>1</td>\n",
       "      <td>1</td>\n",
       "    </tr>\n",
       "  </tbody>\n",
       "</table>\n",
       "</div>"
      ],
      "text/plain": [
       "   label  clickTime  conversionTime  creativeID   userID  positionID  \\\n",
       "0      0     170000             NaN        3089  2798058         293   \n",
       "1      0     170000             NaN        1259   463234        6161   \n",
       "2      0     170000             NaN        4465  1857485        7434   \n",
       "3      0     170000             NaN        1004  2038823         977   \n",
       "4      0     170000             NaN        1887  2015141        3688   \n",
       "\n",
       "   connectionType  telecomsOperator  \n",
       "0               1                 1  \n",
       "1               1                 2  \n",
       "2               4                 1  \n",
       "3               1                 1  \n",
       "4               1                 1  "
      ]
     },
     "execution_count": 2,
     "metadata": {},
     "output_type": "execute_result"
    }
   ],
   "source": [
    "train=store['train']\n",
    "train.head()"
   ]
  },
  {
   "cell_type": "markdown",
   "metadata": {},
   "source": [
    "# load raw features"
   ]
  },
  {
   "cell_type": "code",
   "execution_count": 3,
   "metadata": {
    "collapsed": false
   },
   "outputs": [
    {
     "data": {
      "text/html": [
       "<div>\n",
       "<table border=\"1\" class=\"dataframe\">\n",
       "  <thead>\n",
       "    <tr style=\"text-align: right;\">\n",
       "      <th></th>\n",
       "      <th>userID</th>\n",
       "      <th>age</th>\n",
       "      <th>gender</th>\n",
       "      <th>education</th>\n",
       "      <th>marriageStatus</th>\n",
       "      <th>haveBaby</th>\n",
       "      <th>hometown</th>\n",
       "      <th>residence</th>\n",
       "      <th>appCate1_act</th>\n",
       "      <th>count_act</th>\n",
       "      <th>appCate1_inst</th>\n",
       "      <th>count_inst</th>\n",
       "    </tr>\n",
       "  </thead>\n",
       "  <tbody>\n",
       "    <tr>\n",
       "      <th>0</th>\n",
       "      <td>1</td>\n",
       "      <td>42</td>\n",
       "      <td>1</td>\n",
       "      <td>0</td>\n",
       "      <td>2</td>\n",
       "      <td>0</td>\n",
       "      <td>512</td>\n",
       "      <td>503</td>\n",
       "      <td>1</td>\n",
       "      <td>1</td>\n",
       "      <td>0</td>\n",
       "      <td>79</td>\n",
       "    </tr>\n",
       "    <tr>\n",
       "      <th>1</th>\n",
       "      <td>2</td>\n",
       "      <td>18</td>\n",
       "      <td>1</td>\n",
       "      <td>5</td>\n",
       "      <td>1</td>\n",
       "      <td>0</td>\n",
       "      <td>1403</td>\n",
       "      <td>1403</td>\n",
       "      <td>NaN</td>\n",
       "      <td>NaN</td>\n",
       "      <td>NaN</td>\n",
       "      <td>NaN</td>\n",
       "    </tr>\n",
       "    <tr>\n",
       "      <th>2</th>\n",
       "      <td>3</td>\n",
       "      <td>0</td>\n",
       "      <td>2</td>\n",
       "      <td>4</td>\n",
       "      <td>0</td>\n",
       "      <td>0</td>\n",
       "      <td>0</td>\n",
       "      <td>0</td>\n",
       "      <td>NaN</td>\n",
       "      <td>NaN</td>\n",
       "      <td>NaN</td>\n",
       "      <td>NaN</td>\n",
       "    </tr>\n",
       "    <tr>\n",
       "      <th>3</th>\n",
       "      <td>4</td>\n",
       "      <td>21</td>\n",
       "      <td>2</td>\n",
       "      <td>5</td>\n",
       "      <td>3</td>\n",
       "      <td>0</td>\n",
       "      <td>607</td>\n",
       "      <td>607</td>\n",
       "      <td>NaN</td>\n",
       "      <td>NaN</td>\n",
       "      <td>NaN</td>\n",
       "      <td>NaN</td>\n",
       "    </tr>\n",
       "    <tr>\n",
       "      <th>4</th>\n",
       "      <td>5</td>\n",
       "      <td>22</td>\n",
       "      <td>2</td>\n",
       "      <td>0</td>\n",
       "      <td>0</td>\n",
       "      <td>0</td>\n",
       "      <td>0</td>\n",
       "      <td>1301</td>\n",
       "      <td>1</td>\n",
       "      <td>9</td>\n",
       "      <td>NaN</td>\n",
       "      <td>NaN</td>\n",
       "    </tr>\n",
       "  </tbody>\n",
       "</table>\n",
       "</div>"
      ],
      "text/plain": [
       "   userID  age  gender  education  marriageStatus  haveBaby  hometown  \\\n",
       "0       1   42       1          0               2         0       512   \n",
       "1       2   18       1          5               1         0      1403   \n",
       "2       3    0       2          4               0         0         0   \n",
       "3       4   21       2          5               3         0       607   \n",
       "4       5   22       2          0               0         0         0   \n",
       "\n",
       "   residence  appCate1_act  count_act  appCate1_inst  count_inst  \n",
       "0        503             1          1              0          79  \n",
       "1       1403           NaN        NaN            NaN         NaN  \n",
       "2          0           NaN        NaN            NaN         NaN  \n",
       "3        607           NaN        NaN            NaN         NaN  \n",
       "4       1301             1          9            NaN         NaN  "
      ]
     },
     "execution_count": 3,
     "metadata": {},
     "output_type": "execute_result"
    }
   ],
   "source": [
    "f_user = store['feat-user-default']\n",
    "f_user.head()"
   ]
  },
  {
   "cell_type": "code",
   "execution_count": 4,
   "metadata": {
    "collapsed": false
   },
   "outputs": [
    {
     "data": {
      "text/html": [
       "<div>\n",
       "<table border=\"1\" class=\"dataframe\">\n",
       "  <thead>\n",
       "    <tr style=\"text-align: right;\">\n",
       "      <th></th>\n",
       "      <th>creativeID</th>\n",
       "      <th>adID</th>\n",
       "      <th>camgaignID</th>\n",
       "      <th>advertiserID</th>\n",
       "      <th>appID</th>\n",
       "      <th>appPlatform</th>\n",
       "      <th>appCate2</th>\n",
       "      <th>appCate1</th>\n",
       "      <th>appCategory</th>\n",
       "    </tr>\n",
       "  </thead>\n",
       "  <tbody>\n",
       "    <tr>\n",
       "      <th>0</th>\n",
       "      <td>4079</td>\n",
       "      <td>2318</td>\n",
       "      <td>147</td>\n",
       "      <td>80</td>\n",
       "      <td>14</td>\n",
       "      <td>2</td>\n",
       "      <td>2</td>\n",
       "      <td>0</td>\n",
       "      <td>2</td>\n",
       "    </tr>\n",
       "    <tr>\n",
       "      <th>1</th>\n",
       "      <td>4565</td>\n",
       "      <td>3593</td>\n",
       "      <td>632</td>\n",
       "      <td>3</td>\n",
       "      <td>465</td>\n",
       "      <td>1</td>\n",
       "      <td>9</td>\n",
       "      <td>2</td>\n",
       "      <td>209</td>\n",
       "    </tr>\n",
       "    <tr>\n",
       "      <th>2</th>\n",
       "      <td>3170</td>\n",
       "      <td>1593</td>\n",
       "      <td>205</td>\n",
       "      <td>54</td>\n",
       "      <td>389</td>\n",
       "      <td>1</td>\n",
       "      <td>8</td>\n",
       "      <td>1</td>\n",
       "      <td>108</td>\n",
       "    </tr>\n",
       "    <tr>\n",
       "      <th>3</th>\n",
       "      <td>6566</td>\n",
       "      <td>2390</td>\n",
       "      <td>205</td>\n",
       "      <td>54</td>\n",
       "      <td>389</td>\n",
       "      <td>1</td>\n",
       "      <td>8</td>\n",
       "      <td>1</td>\n",
       "      <td>108</td>\n",
       "    </tr>\n",
       "    <tr>\n",
       "      <th>4</th>\n",
       "      <td>5187</td>\n",
       "      <td>411</td>\n",
       "      <td>564</td>\n",
       "      <td>3</td>\n",
       "      <td>465</td>\n",
       "      <td>1</td>\n",
       "      <td>9</td>\n",
       "      <td>2</td>\n",
       "      <td>209</td>\n",
       "    </tr>\n",
       "  </tbody>\n",
       "</table>\n",
       "</div>"
      ],
      "text/plain": [
       "   creativeID  adID  camgaignID  advertiserID  appID  appPlatform  appCate2  \\\n",
       "0        4079  2318         147            80     14            2         2   \n",
       "1        4565  3593         632             3    465            1         9   \n",
       "2        3170  1593         205            54    389            1         8   \n",
       "3        6566  2390         205            54    389            1         8   \n",
       "4        5187   411         564             3    465            1         9   \n",
       "\n",
       "   appCate1  appCategory  \n",
       "0         0            2  \n",
       "1         2          209  \n",
       "2         1          108  \n",
       "3         1          108  \n",
       "4         2          209  "
      ]
     },
     "execution_count": 4,
     "metadata": {},
     "output_type": "execute_result"
    }
   ],
   "source": [
    "f_ad = store['feat-ad-default']\n",
    "f_ad.head()"
   ]
  },
  {
   "cell_type": "code",
   "execution_count": 5,
   "metadata": {
    "collapsed": false
   },
   "outputs": [
    {
     "data": {
      "text/html": [
       "<div>\n",
       "<table border=\"1\" class=\"dataframe\">\n",
       "  <thead>\n",
       "    <tr style=\"text-align: right;\">\n",
       "      <th></th>\n",
       "      <th>positionID</th>\n",
       "      <th>sitesetID</th>\n",
       "      <th>positionType</th>\n",
       "    </tr>\n",
       "  </thead>\n",
       "  <tbody>\n",
       "    <tr>\n",
       "      <th>0</th>\n",
       "      <td>2150</td>\n",
       "      <td>1</td>\n",
       "      <td>0</td>\n",
       "    </tr>\n",
       "    <tr>\n",
       "      <th>1</th>\n",
       "      <td>2579</td>\n",
       "      <td>1</td>\n",
       "      <td>0</td>\n",
       "    </tr>\n",
       "    <tr>\n",
       "      <th>2</th>\n",
       "      <td>3322</td>\n",
       "      <td>1</td>\n",
       "      <td>0</td>\n",
       "    </tr>\n",
       "    <tr>\n",
       "      <th>3</th>\n",
       "      <td>5726</td>\n",
       "      <td>1</td>\n",
       "      <td>0</td>\n",
       "    </tr>\n",
       "    <tr>\n",
       "      <th>4</th>\n",
       "      <td>4522</td>\n",
       "      <td>2</td>\n",
       "      <td>0</td>\n",
       "    </tr>\n",
       "  </tbody>\n",
       "</table>\n",
       "</div>"
      ],
      "text/plain": [
       "   positionID  sitesetID  positionType\n",
       "0        2150          1             0\n",
       "1        2579          1             0\n",
       "2        3322          1             0\n",
       "3        5726          1             0\n",
       "4        4522          2             0"
      ]
     },
     "execution_count": 5,
     "metadata": {},
     "output_type": "execute_result"
    }
   ],
   "source": [
    "f_pos = store['position']\n",
    "f_pos.head()"
   ]
  },
  {
   "cell_type": "markdown",
   "metadata": {
    "collapsed": true
   },
   "source": [
    "# experiment by your self to design a extractor "
   ]
  },
  {
   "cell_type": "code",
   "execution_count": 6,
   "metadata": {
    "collapsed": false
   },
   "outputs": [
    {
     "name": "stdout",
     "output_type": "stream",
     "text": [
      "Index([u'label', u'clickTime', u'conversionTime', u'creativeID', u'userID',\n",
      "       u'positionID', u'connectionType', u'telecomsOperator'],\n",
      "      dtype='object')\n",
      "Index([u'instanceID', u'label', u'clickTime', u'creativeID', u'userID',\n",
      "       u'positionID', u'connectionType', u'telecomsOperator'],\n",
      "      dtype='object')\n",
      "label\n"
     ]
    }
   ],
   "source": [
    "train = store['train']\n",
    "test = store['test']\n",
    "train_feats = train.columns\n",
    "test_feats = test.columns\n",
    "label_name = 'label'\n",
    "print train_feats\n",
    "print test_feats\n",
    "print label_name"
   ]
  },
  {
   "cell_type": "code",
   "execution_count": 7,
   "metadata": {
    "collapsed": false
   },
   "outputs": [
    {
     "name": "stdout",
     "output_type": "stream",
     "text": [
      "['positionID', 'clickTime', 'userID', 'connectionType', 'creativeID', 'telecomsOperator']\n"
     ]
    }
   ],
   "source": [
    "common_feat = list(set(train_feats).intersection(set(test_feats)))\n",
    "common_feat.remove(label_name)\n",
    "print common_feat\n",
    "\n",
    "class RawData(object):\n",
    "    pass\n",
    "raw_data = RawData()\n",
    "\n",
    "raw_data.store = store\n",
    "raw_data.label_name = label_name\n",
    "raw_data.common_feat = common_feat"
   ]
  },
  {
   "cell_type": "code",
   "execution_count": 8,
   "metadata": {
    "collapsed": false
   },
   "outputs": [],
   "source": [
    "#%%writefile competition/featExtract/simple_features.py\n",
    "\n",
    "from competition.featExtract.base import Extractor\n",
    "import pandas as pd\n",
    "\n",
    "\n",
    "\n",
    "class SimpleFeatures(Extractor):\n",
    "    def __init__(self, raw_data):\n",
    "        self.raw_data = raw_data\n",
    "        store = raw_data.store\n",
    "        f_user = store['feat-user-default']\n",
    "        f_ad = store['feat-ad-default']\n",
    "        f_pos = store['position']\n",
    "        def merge_tables(X):\n",
    "            # user\n",
    "            X = pd.merge(X,f_user,how='left',left_on='userID',right_on='userID')\n",
    "            del X['userID']\n",
    "            # ad\n",
    "            X = pd.merge(X,f_ad,how='left',left_on='creativeID',right_on='creativeID')\n",
    "            del X['creativeID']\n",
    "            # pos\n",
    "            X = pd.merge(X,f_pos,how='left',left_on='positionID',right_on='positionID')\n",
    "            del X['positionID']\n",
    "\n",
    "            return X\n",
    "        self.merge_tables = merge_tables\n",
    "\n",
    "    def get_train(self):\n",
    "        X,y = self._get(self.raw_data.store['train']) \n",
    "        X = self.merge_tables(X)\n",
    "        return X,y\n",
    "\n",
    "    def get_test(self,dataframe):\n",
    "        X,y = self._get(self.raw_data.store['test']) \n",
    "        X = self.merge_tables(X)\n",
    "        return X,y\n",
    "\n",
    "    def _get(self,dataframe):\n",
    "        X = dataframe[self.raw_data.common_feat]\n",
    "        y = dataframe[self.raw_data.label_name]\n",
    "        return X,y\n"
   ]
  },
  {
   "cell_type": "code",
   "execution_count": 9,
   "metadata": {
    "collapsed": false
   },
   "outputs": [],
   "source": [
    "from competition.featExtract.simple_features import SimpleFeatures\n",
    "prep = SimpleFeatures(raw_data)\n",
    "\n",
    "trainX,trainY = prep.get_train()\n",
    "testX,testY  = prep.get_train()\n"
   ]
  },
  {
   "cell_type": "code",
   "execution_count": 10,
   "metadata": {
    "collapsed": false
   },
   "outputs": [
    {
     "name": "stdout",
     "output_type": "stream",
     "text": [
      "(3749528, 24)\n",
      "(3749528, 24)\n"
     ]
    }
   ],
   "source": [
    "print trainX.shape\n",
    "print testX.shape"
   ]
  },
  {
   "cell_type": "markdown",
   "metadata": {},
   "source": [
    "# run the extractor\n",
    "- modify `config.py`\n",
    "- run `extract_features.py`"
   ]
  },
  {
   "cell_type": "code",
   "execution_count": 11,
   "metadata": {
    "collapsed": false
   },
   "outputs": [
    {
     "name": "stdout",
     "output_type": "stream",
     "text": [
      "# -*- coding:utf-8 -*-\r\n",
      "\r\n",
      "# define at you will\r\n",
      "# this file is intended to be used by the scripts in this folder\r\n",
      "\r\n",
      "\r\n",
      "# convert_data, load_data\r\n",
      "dataDir = './_data/'\r\n",
      "extractDir = './_extracted/'\r\n",
      "resultDir = './_result/'\r\n",
      "\r\n",
      "dataFile = 'store.db'\r\n",
      "infoFile = 'info.pkl'\r\n",
      "\r\n",
      "# extract_features\r\n",
      "from competition.featExtract.simple_features import SimpleFeatures as Extractor\r\n",
      "Extractor_name = Extractor.__module__.split('.')[-1]\r\n",
      "\r\n"
     ]
    }
   ],
   "source": [
    "!cat config.py"
   ]
  },
  {
   "cell_type": "code",
   "execution_count": 12,
   "metadata": {
    "collapsed": false
   },
   "outputs": [],
   "source": [
    "%run extract_features.py"
   ]
  },
  {
   "cell_type": "code",
   "execution_count": 13,
   "metadata": {
    "collapsed": false
   },
   "outputs": [
    {
     "name": "stdout",
     "output_type": "stream",
     "text": [
      "simple_features.db\r\n"
     ]
    }
   ],
   "source": [
    "!ls ./_extracted/"
   ]
  },
  {
   "cell_type": "code",
   "execution_count": null,
   "metadata": {
    "collapsed": true
   },
   "outputs": [],
   "source": []
  }
 ],
 "metadata": {
  "kernelspec": {
   "display_name": "Python 2",
   "language": "python",
   "name": "python2"
  },
  "language_info": {
   "codemirror_mode": {
    "name": "ipython",
    "version": 2
   },
   "file_extension": ".py",
   "mimetype": "text/x-python",
   "name": "python",
   "nbconvert_exporter": "python",
   "pygments_lexer": "ipython2",
   "version": "2.7.12"
  }
 },
 "nbformat": 4,
 "nbformat_minor": 0
}
